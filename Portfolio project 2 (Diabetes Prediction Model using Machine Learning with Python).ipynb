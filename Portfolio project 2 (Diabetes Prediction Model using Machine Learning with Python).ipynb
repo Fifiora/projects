{
 "cells": [
  {
   "cell_type": "markdown",
   "id": "aa81db74",
   "metadata": {},
   "source": [
    "## Importing the necessary libraries"
   ]
  },
  {
   "cell_type": "code",
   "execution_count": 68,
   "id": "0d663bd6",
   "metadata": {},
   "outputs": [],
   "source": [
    "import numpy as np  # Importing the NumPy library for numerical computations\n",
    "import pandas as pd  # Importing the pandas library for data manipulation and analysis\n",
    "from sklearn.preprocessing import StandardScaler  # Importing StandardScaler for feature standardization\n",
    "from sklearn.model_selection import train_test_split  # Importing train_test_split for dataset splitting\n",
    "from sklearn import svm  # Importing the support vector machine algorithm\n",
    "from sklearn.metrics import accuracy_score, precision_score, f1_score, recall_score  # Importing metric scores for model evaluation"
   ]
  },
  {
   "cell_type": "markdown",
   "id": "b9bd8aa0",
   "metadata": {},
   "source": [
    "## Data Retrieval and Analysis"
   ]
  },
  {
   "cell_type": "code",
   "execution_count": 69,
   "id": "3a7011f0",
   "metadata": {},
   "outputs": [
    {
     "data": {
      "text/html": [
       "<div>\n",
       "<style scoped>\n",
       "    .dataframe tbody tr th:only-of-type {\n",
       "        vertical-align: middle;\n",
       "    }\n",
       "\n",
       "    .dataframe tbody tr th {\n",
       "        vertical-align: top;\n",
       "    }\n",
       "\n",
       "    .dataframe thead th {\n",
       "        text-align: right;\n",
       "    }\n",
       "</style>\n",
       "<table border=\"1\" class=\"dataframe\">\n",
       "  <thead>\n",
       "    <tr style=\"text-align: right;\">\n",
       "      <th></th>\n",
       "      <th>Pregnancies</th>\n",
       "      <th>Glucose</th>\n",
       "      <th>BloodPressure</th>\n",
       "      <th>SkinThickness</th>\n",
       "      <th>Insulin</th>\n",
       "      <th>BMI</th>\n",
       "      <th>DiabetesPedigreeFunction</th>\n",
       "      <th>Age</th>\n",
       "      <th>Outcome</th>\n",
       "    </tr>\n",
       "  </thead>\n",
       "  <tbody>\n",
       "    <tr>\n",
       "      <th>0</th>\n",
       "      <td>6</td>\n",
       "      <td>148</td>\n",
       "      <td>72</td>\n",
       "      <td>35</td>\n",
       "      <td>0</td>\n",
       "      <td>33.6</td>\n",
       "      <td>0.627</td>\n",
       "      <td>50</td>\n",
       "      <td>1</td>\n",
       "    </tr>\n",
       "    <tr>\n",
       "      <th>1</th>\n",
       "      <td>1</td>\n",
       "      <td>85</td>\n",
       "      <td>66</td>\n",
       "      <td>29</td>\n",
       "      <td>0</td>\n",
       "      <td>26.6</td>\n",
       "      <td>0.351</td>\n",
       "      <td>31</td>\n",
       "      <td>0</td>\n",
       "    </tr>\n",
       "    <tr>\n",
       "      <th>2</th>\n",
       "      <td>8</td>\n",
       "      <td>183</td>\n",
       "      <td>64</td>\n",
       "      <td>0</td>\n",
       "      <td>0</td>\n",
       "      <td>23.3</td>\n",
       "      <td>0.672</td>\n",
       "      <td>32</td>\n",
       "      <td>1</td>\n",
       "    </tr>\n",
       "    <tr>\n",
       "      <th>3</th>\n",
       "      <td>1</td>\n",
       "      <td>89</td>\n",
       "      <td>66</td>\n",
       "      <td>23</td>\n",
       "      <td>94</td>\n",
       "      <td>28.1</td>\n",
       "      <td>0.167</td>\n",
       "      <td>21</td>\n",
       "      <td>0</td>\n",
       "    </tr>\n",
       "    <tr>\n",
       "      <th>4</th>\n",
       "      <td>0</td>\n",
       "      <td>137</td>\n",
       "      <td>40</td>\n",
       "      <td>35</td>\n",
       "      <td>168</td>\n",
       "      <td>43.1</td>\n",
       "      <td>2.288</td>\n",
       "      <td>33</td>\n",
       "      <td>1</td>\n",
       "    </tr>\n",
       "  </tbody>\n",
       "</table>\n",
       "</div>"
      ],
      "text/plain": [
       "   Pregnancies  Glucose  BloodPressure  SkinThickness  Insulin   BMI  \\\n",
       "0            6      148             72             35        0  33.6   \n",
       "1            1       85             66             29        0  26.6   \n",
       "2            8      183             64              0        0  23.3   \n",
       "3            1       89             66             23       94  28.1   \n",
       "4            0      137             40             35      168  43.1   \n",
       "\n",
       "   DiabetesPedigreeFunction  Age  Outcome  \n",
       "0                     0.627   50        1  \n",
       "1                     0.351   31        0  \n",
       "2                     0.672   32        1  \n",
       "3                     0.167   21        0  \n",
       "4                     2.288   33        1  "
      ]
     },
     "execution_count": 69,
     "metadata": {},
     "output_type": "execute_result"
    }
   ],
   "source": [
    "data = pd.read_csv(\"diabetes.csv\")  # Reading the diabetes data from the \"diabetes.csv\" file and storing it in the 'data' variable\n",
    "data.head()  # Displaying the first few rows of the loaded data"
   ]
  },
  {
   "cell_type": "code",
   "execution_count": 70,
   "id": "e466bcf4",
   "metadata": {},
   "outputs": [
    {
     "data": {
      "text/plain": [
       "(768, 9)"
      ]
     },
     "execution_count": 70,
     "metadata": {},
     "output_type": "execute_result"
    }
   ],
   "source": [
    "data.shape #Gives the number of rows and columns of the dataframe"
   ]
  },
  {
   "cell_type": "code",
   "execution_count": 71,
   "id": "7858b53a",
   "metadata": {},
   "outputs": [
    {
     "data": {
      "text/html": [
       "<div>\n",
       "<style scoped>\n",
       "    .dataframe tbody tr th:only-of-type {\n",
       "        vertical-align: middle;\n",
       "    }\n",
       "\n",
       "    .dataframe tbody tr th {\n",
       "        vertical-align: top;\n",
       "    }\n",
       "\n",
       "    .dataframe thead th {\n",
       "        text-align: right;\n",
       "    }\n",
       "</style>\n",
       "<table border=\"1\" class=\"dataframe\">\n",
       "  <thead>\n",
       "    <tr style=\"text-align: right;\">\n",
       "      <th></th>\n",
       "      <th>Pregnancies</th>\n",
       "      <th>Glucose</th>\n",
       "      <th>BloodPressure</th>\n",
       "      <th>SkinThickness</th>\n",
       "      <th>Insulin</th>\n",
       "      <th>BMI</th>\n",
       "      <th>DiabetesPedigreeFunction</th>\n",
       "      <th>Age</th>\n",
       "      <th>Outcome</th>\n",
       "    </tr>\n",
       "  </thead>\n",
       "  <tbody>\n",
       "    <tr>\n",
       "      <th>count</th>\n",
       "      <td>768.000000</td>\n",
       "      <td>768.000000</td>\n",
       "      <td>768.000000</td>\n",
       "      <td>768.000000</td>\n",
       "      <td>768.000000</td>\n",
       "      <td>768.000000</td>\n",
       "      <td>768.000000</td>\n",
       "      <td>768.000000</td>\n",
       "      <td>768.000000</td>\n",
       "    </tr>\n",
       "    <tr>\n",
       "      <th>mean</th>\n",
       "      <td>3.845052</td>\n",
       "      <td>120.894531</td>\n",
       "      <td>69.105469</td>\n",
       "      <td>20.536458</td>\n",
       "      <td>79.799479</td>\n",
       "      <td>31.992578</td>\n",
       "      <td>0.471876</td>\n",
       "      <td>33.240885</td>\n",
       "      <td>0.348958</td>\n",
       "    </tr>\n",
       "    <tr>\n",
       "      <th>std</th>\n",
       "      <td>3.369578</td>\n",
       "      <td>31.972618</td>\n",
       "      <td>19.355807</td>\n",
       "      <td>15.952218</td>\n",
       "      <td>115.244002</td>\n",
       "      <td>7.884160</td>\n",
       "      <td>0.331329</td>\n",
       "      <td>11.760232</td>\n",
       "      <td>0.476951</td>\n",
       "    </tr>\n",
       "    <tr>\n",
       "      <th>min</th>\n",
       "      <td>0.000000</td>\n",
       "      <td>0.000000</td>\n",
       "      <td>0.000000</td>\n",
       "      <td>0.000000</td>\n",
       "      <td>0.000000</td>\n",
       "      <td>0.000000</td>\n",
       "      <td>0.078000</td>\n",
       "      <td>21.000000</td>\n",
       "      <td>0.000000</td>\n",
       "    </tr>\n",
       "    <tr>\n",
       "      <th>25%</th>\n",
       "      <td>1.000000</td>\n",
       "      <td>99.000000</td>\n",
       "      <td>62.000000</td>\n",
       "      <td>0.000000</td>\n",
       "      <td>0.000000</td>\n",
       "      <td>27.300000</td>\n",
       "      <td>0.243750</td>\n",
       "      <td>24.000000</td>\n",
       "      <td>0.000000</td>\n",
       "    </tr>\n",
       "    <tr>\n",
       "      <th>50%</th>\n",
       "      <td>3.000000</td>\n",
       "      <td>117.000000</td>\n",
       "      <td>72.000000</td>\n",
       "      <td>23.000000</td>\n",
       "      <td>30.500000</td>\n",
       "      <td>32.000000</td>\n",
       "      <td>0.372500</td>\n",
       "      <td>29.000000</td>\n",
       "      <td>0.000000</td>\n",
       "    </tr>\n",
       "    <tr>\n",
       "      <th>75%</th>\n",
       "      <td>6.000000</td>\n",
       "      <td>140.250000</td>\n",
       "      <td>80.000000</td>\n",
       "      <td>32.000000</td>\n",
       "      <td>127.250000</td>\n",
       "      <td>36.600000</td>\n",
       "      <td>0.626250</td>\n",
       "      <td>41.000000</td>\n",
       "      <td>1.000000</td>\n",
       "    </tr>\n",
       "    <tr>\n",
       "      <th>max</th>\n",
       "      <td>17.000000</td>\n",
       "      <td>199.000000</td>\n",
       "      <td>122.000000</td>\n",
       "      <td>99.000000</td>\n",
       "      <td>846.000000</td>\n",
       "      <td>67.100000</td>\n",
       "      <td>2.420000</td>\n",
       "      <td>81.000000</td>\n",
       "      <td>1.000000</td>\n",
       "    </tr>\n",
       "  </tbody>\n",
       "</table>\n",
       "</div>"
      ],
      "text/plain": [
       "       Pregnancies     Glucose  BloodPressure  SkinThickness     Insulin  \\\n",
       "count   768.000000  768.000000     768.000000     768.000000  768.000000   \n",
       "mean      3.845052  120.894531      69.105469      20.536458   79.799479   \n",
       "std       3.369578   31.972618      19.355807      15.952218  115.244002   \n",
       "min       0.000000    0.000000       0.000000       0.000000    0.000000   \n",
       "25%       1.000000   99.000000      62.000000       0.000000    0.000000   \n",
       "50%       3.000000  117.000000      72.000000      23.000000   30.500000   \n",
       "75%       6.000000  140.250000      80.000000      32.000000  127.250000   \n",
       "max      17.000000  199.000000     122.000000      99.000000  846.000000   \n",
       "\n",
       "              BMI  DiabetesPedigreeFunction         Age     Outcome  \n",
       "count  768.000000                768.000000  768.000000  768.000000  \n",
       "mean    31.992578                  0.471876   33.240885    0.348958  \n",
       "std      7.884160                  0.331329   11.760232    0.476951  \n",
       "min      0.000000                  0.078000   21.000000    0.000000  \n",
       "25%     27.300000                  0.243750   24.000000    0.000000  \n",
       "50%     32.000000                  0.372500   29.000000    0.000000  \n",
       "75%     36.600000                  0.626250   41.000000    1.000000  \n",
       "max     67.100000                  2.420000   81.000000    1.000000  "
      ]
     },
     "execution_count": 71,
     "metadata": {},
     "output_type": "execute_result"
    }
   ],
   "source": [
    "data.describe() #Gives a statistical description of the data"
   ]
  },
  {
   "cell_type": "code",
   "execution_count": 72,
   "id": "9509d02b",
   "metadata": {},
   "outputs": [
    {
     "data": {
      "text/plain": [
       "0    500\n",
       "1    268\n",
       "Name: Outcome, dtype: int64"
      ]
     },
     "execution_count": 72,
     "metadata": {},
     "output_type": "execute_result"
    }
   ],
   "source": [
    "data['Outcome'].value_counts() #Counts the frequency of each unique value in the Outcome column of the dataset"
   ]
  },
  {
   "cell_type": "markdown",
   "id": "77d73bb1",
   "metadata": {},
   "source": [
    "Note: '0' stands for non-diabetic and '1' stands for diabetic"
   ]
  },
  {
   "cell_type": "code",
   "execution_count": 73,
   "id": "59c5c051",
   "metadata": {},
   "outputs": [
    {
     "data": {
      "text/html": [
       "<div>\n",
       "<style scoped>\n",
       "    .dataframe tbody tr th:only-of-type {\n",
       "        vertical-align: middle;\n",
       "    }\n",
       "\n",
       "    .dataframe tbody tr th {\n",
       "        vertical-align: top;\n",
       "    }\n",
       "\n",
       "    .dataframe thead th {\n",
       "        text-align: right;\n",
       "    }\n",
       "</style>\n",
       "<table border=\"1\" class=\"dataframe\">\n",
       "  <thead>\n",
       "    <tr style=\"text-align: right;\">\n",
       "      <th></th>\n",
       "      <th>Pregnancies</th>\n",
       "      <th>Glucose</th>\n",
       "      <th>BloodPressure</th>\n",
       "      <th>SkinThickness</th>\n",
       "      <th>Insulin</th>\n",
       "      <th>BMI</th>\n",
       "      <th>DiabetesPedigreeFunction</th>\n",
       "      <th>Age</th>\n",
       "    </tr>\n",
       "    <tr>\n",
       "      <th>Outcome</th>\n",
       "      <th></th>\n",
       "      <th></th>\n",
       "      <th></th>\n",
       "      <th></th>\n",
       "      <th></th>\n",
       "      <th></th>\n",
       "      <th></th>\n",
       "      <th></th>\n",
       "    </tr>\n",
       "  </thead>\n",
       "  <tbody>\n",
       "    <tr>\n",
       "      <th>0</th>\n",
       "      <td>3.298000</td>\n",
       "      <td>109.980000</td>\n",
       "      <td>68.184000</td>\n",
       "      <td>19.664000</td>\n",
       "      <td>68.792000</td>\n",
       "      <td>30.304200</td>\n",
       "      <td>0.429734</td>\n",
       "      <td>31.190000</td>\n",
       "    </tr>\n",
       "    <tr>\n",
       "      <th>1</th>\n",
       "      <td>4.865672</td>\n",
       "      <td>141.257463</td>\n",
       "      <td>70.824627</td>\n",
       "      <td>22.164179</td>\n",
       "      <td>100.335821</td>\n",
       "      <td>35.142537</td>\n",
       "      <td>0.550500</td>\n",
       "      <td>37.067164</td>\n",
       "    </tr>\n",
       "  </tbody>\n",
       "</table>\n",
       "</div>"
      ],
      "text/plain": [
       "         Pregnancies     Glucose  BloodPressure  SkinThickness     Insulin  \\\n",
       "Outcome                                                                      \n",
       "0           3.298000  109.980000      68.184000      19.664000   68.792000   \n",
       "1           4.865672  141.257463      70.824627      22.164179  100.335821   \n",
       "\n",
       "               BMI  DiabetesPedigreeFunction        Age  \n",
       "Outcome                                                  \n",
       "0        30.304200                  0.429734  31.190000  \n",
       "1        35.142537                  0.550500  37.067164  "
      ]
     },
     "execution_count": 73,
     "metadata": {},
     "output_type": "execute_result"
    }
   ],
   "source": [
    "data.groupby('Outcome').mean()#Gives an insight into the average values of the numeric features in the dataset based on different outcomes"
   ]
  },
  {
   "cell_type": "code",
   "execution_count": 74,
   "id": "abb73607",
   "metadata": {},
   "outputs": [
    {
     "data": {
      "text/plain": [
       "Pregnancies                 0\n",
       "Glucose                     0\n",
       "BloodPressure               0\n",
       "SkinThickness               0\n",
       "Insulin                     0\n",
       "BMI                         0\n",
       "DiabetesPedigreeFunction    0\n",
       "Age                         0\n",
       "Outcome                     0\n",
       "dtype: int64"
      ]
     },
     "execution_count": 74,
     "metadata": {},
     "output_type": "execute_result"
    }
   ],
   "source": [
    "null_values = data.isnull().sum()#Gives the total number of null values in the dataset\n",
    "null_values"
   ]
  },
  {
   "cell_type": "markdown",
   "id": "8c1a79e4",
   "metadata": {},
   "source": [
    "There are no null values in the dataset"
   ]
  },
  {
   "cell_type": "code",
   "execution_count": 75,
   "id": "b276f209",
   "metadata": {},
   "outputs": [
    {
     "name": "stdout",
     "output_type": "stream",
     "text": [
      "Correlation matrix:\n",
      "                          Pregnancies   Glucose  BloodPressure  SkinThickness  \\\n",
      "Pregnancies                  1.000000  0.129459       0.141282      -0.081672   \n",
      "Glucose                      0.129459  1.000000       0.152590       0.057328   \n",
      "BloodPressure                0.141282  0.152590       1.000000       0.207371   \n",
      "SkinThickness               -0.081672  0.057328       0.207371       1.000000   \n",
      "Insulin                     -0.073535  0.331357       0.088933       0.436783   \n",
      "BMI                          0.017683  0.221071       0.281805       0.392573   \n",
      "DiabetesPedigreeFunction    -0.033523  0.137337       0.041265       0.183928   \n",
      "Age                          0.544341  0.263514       0.239528      -0.113970   \n",
      "Outcome                      0.221898  0.466581       0.065068       0.074752   \n",
      "\n",
      "                           Insulin       BMI  DiabetesPedigreeFunction  \\\n",
      "Pregnancies              -0.073535  0.017683                 -0.033523   \n",
      "Glucose                   0.331357  0.221071                  0.137337   \n",
      "BloodPressure             0.088933  0.281805                  0.041265   \n",
      "SkinThickness             0.436783  0.392573                  0.183928   \n",
      "Insulin                   1.000000  0.197859                  0.185071   \n",
      "BMI                       0.197859  1.000000                  0.140647   \n",
      "DiabetesPedigreeFunction  0.185071  0.140647                  1.000000   \n",
      "Age                      -0.042163  0.036242                  0.033561   \n",
      "Outcome                   0.130548  0.292695                  0.173844   \n",
      "\n",
      "                               Age   Outcome  \n",
      "Pregnancies               0.544341  0.221898  \n",
      "Glucose                   0.263514  0.466581  \n",
      "BloodPressure             0.239528  0.065068  \n",
      "SkinThickness            -0.113970  0.074752  \n",
      "Insulin                  -0.042163  0.130548  \n",
      "BMI                       0.036242  0.292695  \n",
      "DiabetesPedigreeFunction  0.033561  0.173844  \n",
      "Age                       1.000000  0.238356  \n",
      "Outcome                   0.238356  1.000000  \n"
     ]
    }
   ],
   "source": [
    "# Calculate the correlation matrix\n",
    "correlation_matrix = data.corr()  # Calculate the correlation matrix for the DataFrame 'data'\n",
    "print(\"Correlation matrix:\")\n",
    "print(correlation_matrix)  # Print the correlation matrix"
   ]
  },
  {
   "cell_type": "markdown",
   "id": "e2f1295d",
   "metadata": {},
   "source": [
    " This computes the correlation coefficient for each pair of columns, ranging from -1 to 1, indicating the strength and direction of the linear relationship between the variables."
   ]
  },
  {
   "cell_type": "code",
   "execution_count": 76,
   "id": "a66d2631",
   "metadata": {},
   "outputs": [
    {
     "data": {
      "image/png": "[encoded data removed]",
      "text/plain": [
       "<Figure size 640x480 with 1 Axes>"
      ]
     },
     "metadata": {},
     "output_type": "display_data"
    }
   ],
   "source": [
    "# Plot a scatter plot of Glucose vs. Insulin\n",
    "plt.scatter(data['Glucose'], data['Insulin'])  # Create a scatter plot with 'Glucose' on the x-axis and 'Insulin' on the y-axis\n",
    "plt.grid()  # Add grid lines to the plot\n",
    "plt.xlabel('Glucose')  # Set the x-axis label as 'Glucose'\n",
    "plt.ylabel('Insulin')  # Set the y-axis label as 'Insulin'\n",
    "plt.title('Scatter plot of Glucose vs. Insulin')  # Set the title of the plot\n",
    "plt.show()  # Display the scatter plot"
   ]
  },
  {
   "cell_type": "markdown",
   "id": "97649d03",
   "metadata": {},
   "source": [
    "This generates a scatter plot showing the relationship between 'Glucose' and 'Insulin' for each data point."
   ]
  },
  {
   "cell_type": "code",
   "execution_count": 77,
   "id": "f225603c",
   "metadata": {},
   "outputs": [],
   "source": [
    "X = data.drop(columns='Outcome', axis=1)  # Create X by dropping the 'Outcome' column from 'data'\n",
    "Y = data['Outcome']  # Assign the 'Outcome' column as the target variable Y"
   ]
  },
  {
   "cell_type": "markdown",
   "id": "ec4c771f",
   "metadata": {},
   "source": [
    "## Data Standardization"
   ]
  },
  {
   "cell_type": "code",
   "execution_count": 78,
   "id": "cc2dd419",
   "metadata": {},
   "outputs": [],
   "source": [
    "scaler = StandardScaler()  # Create an instance of the StandardScaler class\n",
    "scaler.fit(X)  # Fit the scaler to the data in X, calculating the mean and standard deviation for each feature\n",
    "standardized_data = scaler.transform(X)  # Standardize the features in X using the fitted scaler\n",
    "X = standardized_data  # Assign the standardized features to the variable X"
   ]
  },
  {
   "cell_type": "markdown",
   "id": "e2d83d1b",
   "metadata": {},
   "source": [
    "The StandardScaler is a preprocessing technique that standardizes features by subtracting the mean and scaling to unit variance. It is commonly used to normalize the input data before training a machine learning model."
   ]
  },
  {
   "cell_type": "markdown",
   "id": "50e90f57",
   "metadata": {},
   "source": [
    "## Splitting into Train and Test Data"
   ]
  },
  {
   "cell_type": "code",
   "execution_count": 79,
   "id": "828424a0",
   "metadata": {},
   "outputs": [],
   "source": [
    "X_train, X_test, Y_train, Y_test = train_test_split(X,Y, test_size = 0.2, stratify=Y, random_state=2)"
   ]
  },
  {
   "cell_type": "markdown",
   "id": "c814f79e",
   "metadata": {},
   "source": [
    "The train_test_split function is used to split the data into training and testing sets. It takes the input features 'X' and the target variable 'Y' as its first two arguments.\n",
    "\n",
    "The 'test_size' parameter is set to 0.2, which means that 20% of the data will be allocated for testing, while the remaining 80% will be used for training.\n",
    "\n",
    "The 'stratify' parameter is set to 'Y', which ensures that the class distribution in the original data is preserved in the training and testing sets. This is important when dealing with imbalanced datasets, where the target variable has unequal proportions of different classes.\n",
    "\n",
    "The 'random_state' parameter is set to 2, which ensures reproducibility of the random sampling. Using the same random state value will yield the same split of data each time the code is executed.\n",
    "\n",
    "The function returns four sets of data: 'X_train' (training set input features), 'X_test' (testing set input features), 'Y_train' (training set target variable), and 'Y_test' (testing set target variable). These sets can be used for training and evaluating machine learning models, ensuring that the data is split consistently between different runs."
   ]
  },
  {
   "cell_type": "code",
   "execution_count": 80,
   "id": "1d3db8c3",
   "metadata": {},
   "outputs": [
    {
     "name": "stdout",
     "output_type": "stream",
     "text": [
      "(768, 8) (614, 8) (154, 8)\n"
     ]
    }
   ],
   "source": [
    "print(X.shape, X_train.shape, X_test.shape)# Getting a picture of the split data by looking at the munber of rows and columns"
   ]
  },
  {
   "cell_type": "markdown",
   "id": "56811012",
   "metadata": {},
   "source": [
    "## Training the Model"
   ]
  },
  {
   "cell_type": "code",
   "execution_count": 81,
   "id": "153fae60",
   "metadata": {},
   "outputs": [
    {
     "data": {
      "text/plain": [
       "SVC(kernel='linear')"
      ]
     },
     "execution_count": 81,
     "metadata": {},
     "output_type": "execute_result"
    }
   ],
   "source": [
    "classifier = svm.SVC(kernel='linear')  # Create an SVM classifier with a linear kernel\n",
    "classifier.fit(X_train, Y_train)  # Fit the classifier to the training data"
   ]
  },
  {
   "cell_type": "markdown",
   "id": "879e59b4",
   "metadata": {},
   "source": [
    "This trains the SVM model on the provided training data, allowing it to learn the patterns and relationships between the features and the corresponding class labels.\n",
    "\n",
    "After executing this code, the SVM classifier is trained and ready to make predictions on new, unseen data."
   ]
  },
  {
   "cell_type": "markdown",
   "id": "59705567",
   "metadata": {},
   "source": [
    "## Model Evaluation"
   ]
  },
  {
   "cell_type": "code",
   "execution_count": 82,
   "id": "4ff8bc6f",
   "metadata": {},
   "outputs": [
    {
     "data": {
      "text/plain": [
       "0.7866449511400652"
      ]
     },
     "execution_count": 82,
     "metadata": {},
     "output_type": "execute_result"
    }
   ],
   "source": [
    "# Accuracy score on train data\n",
    "X_train_prediction = classifier.predict(X_train)  # Predict the labels for the training data\n",
    "training_data_accuracy = accuracy_score(X_train_prediction, Y_train)  # Calculate the accuracy of the predictions\n",
    "training_data_accuracy  # Print the accuracy of the predictions"
   ]
  },
  {
   "cell_type": "code",
   "execution_count": 83,
   "id": "17971eb9",
   "metadata": {},
   "outputs": [
    {
     "data": {
      "text/plain": [
       "0.7727272727272727"
      ]
     },
     "execution_count": 83,
     "metadata": {},
     "output_type": "execute_result"
    }
   ],
   "source": [
    "# Accuracy score on test data\n",
    "X_test_prediction = classifier.predict(X_test) # Predict the labels for the test data\n",
    "test_data_accuracy = accuracy_score(X_test_prediction, Y_test) # Calculate the accuracy of the predictions\n",
    "test_data_accuracy  # Print the accuracy of the predictions"
   ]
  },
  {
   "cell_type": "code",
   "execution_count": 84,
   "id": "84c41cdd",
   "metadata": {},
   "outputs": [
    {
     "data": {
      "text/plain": [
       "0.5887850467289719"
      ]
     },
     "execution_count": 84,
     "metadata": {},
     "output_type": "execute_result"
    }
   ],
   "source": [
    "# Precision Score on train data\n",
    "training_data_precision = precision_score(X_train_prediction, Y_train)\n",
    "training_data_precision"
   ]
  },
  {
   "cell_type": "markdown",
   "id": "96c20b3e",
   "metadata": {},
   "source": [
    "It calculates the precision score, which measures the proportion of true positive predictions out of all positive predictions made by the model."
   ]
  },
  {
   "cell_type": "code",
   "execution_count": 85,
   "id": "50c439d4",
   "metadata": {},
   "outputs": [
    {
     "data": {
      "text/plain": [
       "0.5185185185185185"
      ]
     },
     "execution_count": 85,
     "metadata": {},
     "output_type": "execute_result"
    }
   ],
   "source": [
    "# Precision Score on test data\n",
    "test_data_precision = precision_score(X_test_prediction, Y_test)\n",
    "test_data_precision"
   ]
  },
  {
   "cell_type": "code",
   "execution_count": 86,
   "id": "5183d982",
   "metadata": {},
   "outputs": [
    {
     "data": {
      "text/plain": [
       "0.6579634464751958"
      ]
     },
     "execution_count": 86,
     "metadata": {},
     "output_type": "execute_result"
    }
   ],
   "source": [
    "# f1 score on train data\n",
    "training_data_f1 = f1_score(X_train_prediction, Y_train)\n",
    "training_data_f1"
   ]
  },
  {
   "cell_type": "markdown",
   "id": "27186f42",
   "metadata": {},
   "source": [
    " The F1 score provides a balanced measure of model performance, considering both false positives and false negatives."
   ]
  },
  {
   "cell_type": "code",
   "execution_count": 87,
   "id": "a1077390",
   "metadata": {},
   "outputs": [
    {
     "data": {
      "text/plain": [
       "0.6153846153846154"
      ]
     },
     "execution_count": 87,
     "metadata": {},
     "output_type": "execute_result"
    }
   ],
   "source": [
    "# f1 score on test data\n",
    "test_data_f1 = f1_score(X_test_prediction, Y_test)\n",
    "test_data_f1"
   ]
  },
  {
   "cell_type": "code",
   "execution_count": 88,
   "id": "179fc336",
   "metadata": {},
   "outputs": [
    {
     "data": {
      "text/plain": [
       "0.7455621301775148"
      ]
     },
     "execution_count": 88,
     "metadata": {},
     "output_type": "execute_result"
    }
   ],
   "source": [
    "# recall score on train data\n",
    "training_data_recall = recall_score(X_train_prediction, Y_train)\n",
    "training_data_recall"
   ]
  },
  {
   "cell_type": "markdown",
   "id": "4356449c",
   "metadata": {},
   "source": [
    "It calculates the recall score, which measures the proportion of true positive predictions out of all actual positive instances."
   ]
  },
  {
   "cell_type": "code",
   "execution_count": 89,
   "id": "242d5c49",
   "metadata": {},
   "outputs": [
    {
     "data": {
      "text/plain": [
       "0.7567567567567568"
      ]
     },
     "execution_count": 89,
     "metadata": {},
     "output_type": "execute_result"
    }
   ],
   "source": [
    "# recall score on test data\n",
    "test_data_recall = recall_score(X_test_prediction, Y_test)\n",
    "test_data_recall"
   ]
  },
  {
   "cell_type": "markdown",
   "id": "1f9feceb",
   "metadata": {},
   "source": [
    "## Making a Diabetes Prediction System"
   ]
  },
  {
   "cell_type": "code",
   "execution_count": 90,
   "id": "567ffc8c",
   "metadata": {},
   "outputs": [],
   "source": [
    "# Creating a function that predicts if a patient is diabetic or non-diabetic\n",
    "def predictor(input_data):\n",
    "    input_data_as_numpy_array = np.asarray(input_data)  # Convert the input data to a numpy array\n",
    "    input_data_reshaped = input_data_as_numpy_array.reshape(1, -1)  # Reshape the array to have a single row\n",
    "    std_data = scaler.transform(input_data_reshaped)  # Standardize the input data using the pre-trained scaler\n",
    "    prediction = classifier.predict(std_data)  # Predict the label using the trained classifier\n",
    "    if (prediction[0] == 0):  # Check if the predicted label is 0 (non-diabetic)\n",
    "        print(\"The person is non-diabetic\")  # Print the prediction as non-diabetic\n",
    "    else:\n",
    "        print(\"The person is diabetic\")  # Print the prediction as diabetic\n"
   ]
  },
  {
   "cell_type": "markdown",
   "id": "6580db5d",
   "metadata": {},
   "source": [
    "This function allows you to make predictions on new input data by passing it to the predictor function, which utilizes the trained classifier and scaler to provide a diabetes prediction based on the input data."
   ]
  },
  {
   "cell_type": "code",
   "execution_count": 91,
   "id": "034b4afb",
   "metadata": {},
   "outputs": [
    {
     "name": "stdout",
     "output_type": "stream",
     "text": [
      "The person is diabetic\n"
     ]
    },
    {
     "name": "stderr",
     "output_type": "stream",
     "text": [
      "/Users/francischukwudi/opt/anaconda3/lib/python3.9/site-packages/sklearn/base.py:450: UserWarning: X does not have valid feature names, but StandardScaler was fitted with feature names\n",
      "  warnings.warn(\n"
     ]
    }
   ],
   "source": [
    "input_data = (6,148,72,35,0,33.6,0.627,50) #Sample input data\n",
    "predictor(input_data)"
   ]
  },
  {
   "cell_type": "code",
   "execution_count": null,
   "id": "f362c03e",
   "metadata": {},
   "outputs": [],
   "source": []
  }
 ],
 "metadata": {
  "kernelspec": {
   "display_name": "Python 3 (ipykernel)",
   "language": "python",
   "name": "python3"
  },
  "language_info": {
   "codemirror_mode": {
    "name": "ipython",
    "version": 3
   },
   "file_extension": ".py",
   "mimetype": "text/x-python",
   "name": "python",
   "nbconvert_exporter": "python",
   "pygments_lexer": "ipython3",
   "version": "3.9.13"
  }
 },
 "nbformat": 4,
 "nbformat_minor": 5
}
