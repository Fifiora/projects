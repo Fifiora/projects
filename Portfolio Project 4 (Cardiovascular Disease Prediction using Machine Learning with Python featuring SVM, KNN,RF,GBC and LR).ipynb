{
 "cells": [
  {
   "cell_type": "markdown",
   "id": "5559ae7b",
   "metadata": {},
   "source": [
    "## Importing Libraries"
   ]
  },
  {
   "cell_type": "code",
   "execution_count": 307,
   "id": "90133660",
   "metadata": {},
   "outputs": [],
   "source": [
    "import numpy as np  # Importing the NumPy library for numerical computations\n",
    "import matplotlib.pyplot as plt # Importing Matplotlib's pyplot module for data visualization\n",
    "import pandas as pd  # Importing the pandas library for data manipulation and analysis\n",
    "from sklearn.preprocessing import StandardScaler  # Importing StandardScaler for feature standardization\n",
    "from sklearn.model_selection import train_test_split  # Importing train_test_split for dataset splitting\n",
    "from sklearn.ensemble import RandomForestClassifier # Importing RandomForestClassifier from scikit-learn for random forest classification\n",
    "from sklearn.model_selection import cross_val_score # Importing cross_val_score from scikit-learn for cross-validation\n",
    "from sklearn.neighbors import KNeighborsClassifier # Importing KNeighborsClassifier from scikit-learn for k-nearest neighbors classification\n",
    "from sklearn.ensemble import GradientBoostingClassifier # Importing GradientBoostingClassifier from scikit-learn for gradient boosting classification\n",
    "from sklearn.linear_model import LogisticRegression # Importing LogisticRegression from scikit-learn for logistic regression classification\n",
    "from sklearn import svm  # Importing the support vector machine algorithm\n",
    "from sklearn.metrics import accuracy_score, precision_score, f1_score, recall_score  # Importing metric scores for model evaluation"
   ]
  },
  {
   "cell_type": "markdown",
   "id": "fe69c88c",
   "metadata": {},
   "source": [
    "## About Dataset"
   ]
  },
  {
   "cell_type": "markdown",
   "id": "1dfa86c9",
   "metadata": {},
   "source": [
    "Data description\n",
    "There are 3 types of input features:\n",
    "\n",
    "Objective: factual information;\n",
    "Examination: results of medical examination;\n",
    "Subjective: information given by the patient.\n",
    "Features:\n",
    "\n",
    "Age | Objective Feature | age | int (days)\n",
    "Height | Objective Feature | height | int (cm) |\n",
    "Weight | Objective Feature | weight | float (kg) |\n",
    "Gender | Objective Feature | gender | categorical code |\n",
    "Systolic blood pressure | Examination Feature | ap_hi | int |\n",
    "Diastolic blood pressure | Examination Feature | ap_lo | int |\n",
    "Cholesterol | Examination Feature | cholesterol | 1: normal, 2: above normal, 3: well above normal |\n",
    "Glucose | Examination Feature | gluc | 1: normal, 2: above normal, 3: well above normal |\n",
    "Smoking | Subjective Feature | smoke | binary |\n",
    "Alcohol intake | Subjective Feature | alco | binary |\n",
    "Physical activity | Subjective Feature | active | binary |\n",
    "Presence or absence of cardiovascular disease | Target Variable | cardio | binary |\n",
    "All of the dataset values were collected at the moment of medical examination."
   ]
  },
  {
   "cell_type": "markdown",
   "id": "d08cde46",
   "metadata": {},
   "source": [
    "## Data Retrieval and Analysis"
   ]
  },
  {
   "cell_type": "code",
   "execution_count": 309,
   "id": "e704b985",
   "metadata": {},
   "outputs": [
    {
     "data": {
      "text/html": [
       "<div>\n",
       "<style scoped>\n",
       "    .dataframe tbody tr th:only-of-type {\n",
       "        vertical-align: middle;\n",
       "    }\n",
       "\n",
       "    .dataframe tbody tr th {\n",
       "        vertical-align: top;\n",
       "    }\n",
       "\n",
       "    .dataframe thead th {\n",
       "        text-align: right;\n",
       "    }\n",
       "</style>\n",
       "<table border=\"1\" class=\"dataframe\">\n",
       "  <thead>\n",
       "    <tr style=\"text-align: right;\">\n",
       "      <th></th>\n",
       "      <th>id;age;gender;height;weight;ap_hi;ap_lo;cholesterol;gluc;smoke;alco;active;cardio</th>\n",
       "    </tr>\n",
       "  </thead>\n",
       "  <tbody>\n",
       "    <tr>\n",
       "      <th>0</th>\n",
       "      <td>0;18393;2;168;62.0;110;80;1;1;0;0;1;0</td>\n",
       "    </tr>\n",
       "    <tr>\n",
       "      <th>1</th>\n",
       "      <td>1;20228;1;156;85.0;140;90;3;1;0;0;1;1</td>\n",
       "    </tr>\n",
       "    <tr>\n",
       "      <th>2</th>\n",
       "      <td>2;18857;1;165;64.0;130;70;3;1;0;0;0;1</td>\n",
       "    </tr>\n",
       "    <tr>\n",
       "      <th>3</th>\n",
       "      <td>3;17623;2;169;82.0;150;100;1;1;0;0;1;1</td>\n",
       "    </tr>\n",
       "    <tr>\n",
       "      <th>4</th>\n",
       "      <td>4;17474;1;156;56.0;100;60;1;1;0;0;0;0</td>\n",
       "    </tr>\n",
       "  </tbody>\n",
       "</table>\n",
       "</div>"
      ],
      "text/plain": [
       "  id;age;gender;height;weight;ap_hi;ap_lo;cholesterol;gluc;smoke;alco;active;cardio\n",
       "0              0;18393;2;168;62.0;110;80;1;1;0;0;1;0                               \n",
       "1              1;20228;1;156;85.0;140;90;3;1;0;0;1;1                               \n",
       "2              2;18857;1;165;64.0;130;70;3;1;0;0;0;1                               \n",
       "3             3;17623;2;169;82.0;150;100;1;1;0;0;1;1                               \n",
       "4              4;17474;1;156;56.0;100;60;1;1;0;0;0;0                               "
      ]
     },
     "execution_count": 309,
     "metadata": {},
     "output_type": "execute_result"
    }
   ],
   "source": [
    "data = pd.read_csv(\"cardio_train.csv\") # Reading the CSV file and storing it in a DataFrame named 'data'\n",
    "data.head() # Displaying the first five rows of the DataFrame"
   ]
  },
  {
   "cell_type": "markdown",
   "id": "1109f735",
   "metadata": {},
   "source": [
    "The file isnt parsed well as the delimiter hasn not been included so we need to include a delimiter which in this case is the ';'"
   ]
  },
  {
   "cell_type": "code",
   "execution_count": 310,
   "id": "4ffd2957",
   "metadata": {},
   "outputs": [
    {
     "data": {
      "text/html": [
       "<div>\n",
       "<style scoped>\n",
       "    .dataframe tbody tr th:only-of-type {\n",
       "        vertical-align: middle;\n",
       "    }\n",
       "\n",
       "    .dataframe tbody tr th {\n",
       "        vertical-align: top;\n",
       "    }\n",
       "\n",
       "    .dataframe thead th {\n",
       "        text-align: right;\n",
       "    }\n",
       "</style>\n",
       "<table border=\"1\" class=\"dataframe\">\n",
       "  <thead>\n",
       "    <tr style=\"text-align: right;\">\n",
       "      <th></th>\n",
       "      <th>id</th>\n",
       "      <th>age</th>\n",
       "      <th>gender</th>\n",
       "      <th>height</th>\n",
       "      <th>weight</th>\n",
       "      <th>ap_hi</th>\n",
       "      <th>ap_lo</th>\n",
       "      <th>cholesterol</th>\n",
       "      <th>gluc</th>\n",
       "      <th>smoke</th>\n",
       "      <th>alco</th>\n",
       "      <th>active</th>\n",
       "      <th>cardio</th>\n",
       "    </tr>\n",
       "  </thead>\n",
       "  <tbody>\n",
       "    <tr>\n",
       "      <th>0</th>\n",
       "      <td>0</td>\n",
       "      <td>18393</td>\n",
       "      <td>2</td>\n",
       "      <td>168</td>\n",
       "      <td>62.0</td>\n",
       "      <td>110</td>\n",
       "      <td>80</td>\n",
       "      <td>1</td>\n",
       "      <td>1</td>\n",
       "      <td>0</td>\n",
       "      <td>0</td>\n",
       "      <td>1</td>\n",
       "      <td>0</td>\n",
       "    </tr>\n",
       "    <tr>\n",
       "      <th>1</th>\n",
       "      <td>1</td>\n",
       "      <td>20228</td>\n",
       "      <td>1</td>\n",
       "      <td>156</td>\n",
       "      <td>85.0</td>\n",
       "      <td>140</td>\n",
       "      <td>90</td>\n",
       "      <td>3</td>\n",
       "      <td>1</td>\n",
       "      <td>0</td>\n",
       "      <td>0</td>\n",
       "      <td>1</td>\n",
       "      <td>1</td>\n",
       "    </tr>\n",
       "    <tr>\n",
       "      <th>2</th>\n",
       "      <td>2</td>\n",
       "      <td>18857</td>\n",
       "      <td>1</td>\n",
       "      <td>165</td>\n",
       "      <td>64.0</td>\n",
       "      <td>130</td>\n",
       "      <td>70</td>\n",
       "      <td>3</td>\n",
       "      <td>1</td>\n",
       "      <td>0</td>\n",
       "      <td>0</td>\n",
       "      <td>0</td>\n",
       "      <td>1</td>\n",
       "    </tr>\n",
       "    <tr>\n",
       "      <th>3</th>\n",
       "      <td>3</td>\n",
       "      <td>17623</td>\n",
       "      <td>2</td>\n",
       "      <td>169</td>\n",
       "      <td>82.0</td>\n",
       "      <td>150</td>\n",
       "      <td>100</td>\n",
       "      <td>1</td>\n",
       "      <td>1</td>\n",
       "      <td>0</td>\n",
       "      <td>0</td>\n",
       "      <td>1</td>\n",
       "      <td>1</td>\n",
       "    </tr>\n",
       "    <tr>\n",
       "      <th>4</th>\n",
       "      <td>4</td>\n",
       "      <td>17474</td>\n",
       "      <td>1</td>\n",
       "      <td>156</td>\n",
       "      <td>56.0</td>\n",
       "      <td>100</td>\n",
       "      <td>60</td>\n",
       "      <td>1</td>\n",
       "      <td>1</td>\n",
       "      <td>0</td>\n",
       "      <td>0</td>\n",
       "      <td>0</td>\n",
       "      <td>0</td>\n",
       "    </tr>\n",
       "  </tbody>\n",
       "</table>\n",
       "</div>"
      ],
      "text/plain": [
       "   id    age  gender  height  weight  ap_hi  ap_lo  cholesterol  gluc  smoke  \\\n",
       "0   0  18393       2     168    62.0    110     80            1     1      0   \n",
       "1   1  20228       1     156    85.0    140     90            3     1      0   \n",
       "2   2  18857       1     165    64.0    130     70            3     1      0   \n",
       "3   3  17623       2     169    82.0    150    100            1     1      0   \n",
       "4   4  17474       1     156    56.0    100     60            1     1      0   \n",
       "\n",
       "   alco  active  cardio  \n",
       "0     0       1       0  \n",
       "1     0       1       1  \n",
       "2     0       0       1  \n",
       "3     0       1       1  \n",
       "4     0       0       0  "
      ]
     },
     "execution_count": 310,
     "metadata": {},
     "output_type": "execute_result"
    }
   ],
   "source": [
    "data = pd.read_csv(\"cardio_train.csv\", delimiter=';') # Reading the CSV file with a specified delimiter and storing it in a DataFrame named 'data'\n",
    "data.head() # Displaying the first five rows of the DataFrame"
   ]
  },
  {
   "cell_type": "code",
   "execution_count": 311,
   "id": "ba3ef006",
   "metadata": {},
   "outputs": [
    {
     "data": {
      "text/plain": [
       "(70000, 13)"
      ]
     },
     "execution_count": 311,
     "metadata": {},
     "output_type": "execute_result"
    }
   ],
   "source": [
    "data.shape #Gives the number of rows and columns of the dataframe"
   ]
  },
  {
   "cell_type": "code",
   "execution_count": 312,
   "id": "0b8eb0e4",
   "metadata": {},
   "outputs": [
    {
     "data": {
      "text/html": [
       "<div>\n",
       "<style scoped>\n",
       "    .dataframe tbody tr th:only-of-type {\n",
       "        vertical-align: middle;\n",
       "    }\n",
       "\n",
       "    .dataframe tbody tr th {\n",
       "        vertical-align: top;\n",
       "    }\n",
       "\n",
       "    .dataframe thead th {\n",
       "        text-align: right;\n",
       "    }\n",
       "</style>\n",
       "<table border=\"1\" class=\"dataframe\">\n",
       "  <thead>\n",
       "    <tr style=\"text-align: right;\">\n",
       "      <th></th>\n",
       "      <th>id</th>\n",
       "      <th>age</th>\n",
       "      <th>gender</th>\n",
       "      <th>height</th>\n",
       "      <th>weight</th>\n",
       "      <th>ap_hi</th>\n",
       "      <th>ap_lo</th>\n",
       "      <th>cholesterol</th>\n",
       "      <th>gluc</th>\n",
       "      <th>smoke</th>\n",
       "      <th>alco</th>\n",
       "      <th>active</th>\n",
       "      <th>cardio</th>\n",
       "    </tr>\n",
       "  </thead>\n",
       "  <tbody>\n",
       "    <tr>\n",
       "      <th>count</th>\n",
       "      <td>70000.000000</td>\n",
       "      <td>70000.000000</td>\n",
       "      <td>70000.000000</td>\n",
       "      <td>70000.000000</td>\n",
       "      <td>70000.000000</td>\n",
       "      <td>70000.000000</td>\n",
       "      <td>70000.000000</td>\n",
       "      <td>70000.000000</td>\n",
       "      <td>70000.000000</td>\n",
       "      <td>70000.000000</td>\n",
       "      <td>70000.000000</td>\n",
       "      <td>70000.000000</td>\n",
       "      <td>70000.000000</td>\n",
       "    </tr>\n",
       "    <tr>\n",
       "      <th>mean</th>\n",
       "      <td>49972.419900</td>\n",
       "      <td>19468.865814</td>\n",
       "      <td>1.349571</td>\n",
       "      <td>164.359229</td>\n",
       "      <td>74.205690</td>\n",
       "      <td>128.817286</td>\n",
       "      <td>96.630414</td>\n",
       "      <td>1.366871</td>\n",
       "      <td>1.226457</td>\n",
       "      <td>0.088129</td>\n",
       "      <td>0.053771</td>\n",
       "      <td>0.803729</td>\n",
       "      <td>0.499700</td>\n",
       "    </tr>\n",
       "    <tr>\n",
       "      <th>std</th>\n",
       "      <td>28851.302323</td>\n",
       "      <td>2467.251667</td>\n",
       "      <td>0.476838</td>\n",
       "      <td>8.210126</td>\n",
       "      <td>14.395757</td>\n",
       "      <td>154.011419</td>\n",
       "      <td>188.472530</td>\n",
       "      <td>0.680250</td>\n",
       "      <td>0.572270</td>\n",
       "      <td>0.283484</td>\n",
       "      <td>0.225568</td>\n",
       "      <td>0.397179</td>\n",
       "      <td>0.500003</td>\n",
       "    </tr>\n",
       "    <tr>\n",
       "      <th>min</th>\n",
       "      <td>0.000000</td>\n",
       "      <td>10798.000000</td>\n",
       "      <td>1.000000</td>\n",
       "      <td>55.000000</td>\n",
       "      <td>10.000000</td>\n",
       "      <td>-150.000000</td>\n",
       "      <td>-70.000000</td>\n",
       "      <td>1.000000</td>\n",
       "      <td>1.000000</td>\n",
       "      <td>0.000000</td>\n",
       "      <td>0.000000</td>\n",
       "      <td>0.000000</td>\n",
       "      <td>0.000000</td>\n",
       "    </tr>\n",
       "    <tr>\n",
       "      <th>25%</th>\n",
       "      <td>25006.750000</td>\n",
       "      <td>17664.000000</td>\n",
       "      <td>1.000000</td>\n",
       "      <td>159.000000</td>\n",
       "      <td>65.000000</td>\n",
       "      <td>120.000000</td>\n",
       "      <td>80.000000</td>\n",
       "      <td>1.000000</td>\n",
       "      <td>1.000000</td>\n",
       "      <td>0.000000</td>\n",
       "      <td>0.000000</td>\n",
       "      <td>1.000000</td>\n",
       "      <td>0.000000</td>\n",
       "    </tr>\n",
       "    <tr>\n",
       "      <th>50%</th>\n",
       "      <td>50001.500000</td>\n",
       "      <td>19703.000000</td>\n",
       "      <td>1.000000</td>\n",
       "      <td>165.000000</td>\n",
       "      <td>72.000000</td>\n",
       "      <td>120.000000</td>\n",
       "      <td>80.000000</td>\n",
       "      <td>1.000000</td>\n",
       "      <td>1.000000</td>\n",
       "      <td>0.000000</td>\n",
       "      <td>0.000000</td>\n",
       "      <td>1.000000</td>\n",
       "      <td>0.000000</td>\n",
       "    </tr>\n",
       "    <tr>\n",
       "      <th>75%</th>\n",
       "      <td>74889.250000</td>\n",
       "      <td>21327.000000</td>\n",
       "      <td>2.000000</td>\n",
       "      <td>170.000000</td>\n",
       "      <td>82.000000</td>\n",
       "      <td>140.000000</td>\n",
       "      <td>90.000000</td>\n",
       "      <td>2.000000</td>\n",
       "      <td>1.000000</td>\n",
       "      <td>0.000000</td>\n",
       "      <td>0.000000</td>\n",
       "      <td>1.000000</td>\n",
       "      <td>1.000000</td>\n",
       "    </tr>\n",
       "    <tr>\n",
       "      <th>max</th>\n",
       "      <td>99999.000000</td>\n",
       "      <td>23713.000000</td>\n",
       "      <td>2.000000</td>\n",
       "      <td>250.000000</td>\n",
       "      <td>200.000000</td>\n",
       "      <td>16020.000000</td>\n",
       "      <td>11000.000000</td>\n",
       "      <td>3.000000</td>\n",
       "      <td>3.000000</td>\n",
       "      <td>1.000000</td>\n",
       "      <td>1.000000</td>\n",
       "      <td>1.000000</td>\n",
       "      <td>1.000000</td>\n",
       "    </tr>\n",
       "  </tbody>\n",
       "</table>\n",
       "</div>"
      ],
      "text/plain": [
       "                 id           age        gender        height        weight  \\\n",
       "count  70000.000000  70000.000000  70000.000000  70000.000000  70000.000000   \n",
       "mean   49972.419900  19468.865814      1.349571    164.359229     74.205690   \n",
       "std    28851.302323   2467.251667      0.476838      8.210126     14.395757   \n",
       "min        0.000000  10798.000000      1.000000     55.000000     10.000000   \n",
       "25%    25006.750000  17664.000000      1.000000    159.000000     65.000000   \n",
       "50%    50001.500000  19703.000000      1.000000    165.000000     72.000000   \n",
       "75%    74889.250000  21327.000000      2.000000    170.000000     82.000000   \n",
       "max    99999.000000  23713.000000      2.000000    250.000000    200.000000   \n",
       "\n",
       "              ap_hi         ap_lo   cholesterol          gluc         smoke  \\\n",
       "count  70000.000000  70000.000000  70000.000000  70000.000000  70000.000000   \n",
       "mean     128.817286     96.630414      1.366871      1.226457      0.088129   \n",
       "std      154.011419    188.472530      0.680250      0.572270      0.283484   \n",
       "min     -150.000000    -70.000000      1.000000      1.000000      0.000000   \n",
       "25%      120.000000     80.000000      1.000000      1.000000      0.000000   \n",
       "50%      120.000000     80.000000      1.000000      1.000000      0.000000   \n",
       "75%      140.000000     90.000000      2.000000      1.000000      0.000000   \n",
       "max    16020.000000  11000.000000      3.000000      3.000000      1.000000   \n",
       "\n",
       "               alco        active        cardio  \n",
       "count  70000.000000  70000.000000  70000.000000  \n",
       "mean       0.053771      0.803729      0.499700  \n",
       "std        0.225568      0.397179      0.500003  \n",
       "min        0.000000      0.000000      0.000000  \n",
       "25%        0.000000      1.000000      0.000000  \n",
       "50%        0.000000      1.000000      0.000000  \n",
       "75%        0.000000      1.000000      1.000000  \n",
       "max        1.000000      1.000000      1.000000  "
      ]
     },
     "execution_count": 312,
     "metadata": {},
     "output_type": "execute_result"
    }
   ],
   "source": [
    "data.describe() #Gives a statistical description of the data"
   ]
  },
  {
   "cell_type": "code",
   "execution_count": 313,
   "id": "4f22e921",
   "metadata": {},
   "outputs": [
    {
     "data": {
      "text/html": [
       "<div>\n",
       "<style scoped>\n",
       "    .dataframe tbody tr th:only-of-type {\n",
       "        vertical-align: middle;\n",
       "    }\n",
       "\n",
       "    .dataframe tbody tr th {\n",
       "        vertical-align: top;\n",
       "    }\n",
       "\n",
       "    .dataframe thead th {\n",
       "        text-align: right;\n",
       "    }\n",
       "</style>\n",
       "<table border=\"1\" class=\"dataframe\">\n",
       "  <thead>\n",
       "    <tr style=\"text-align: right;\">\n",
       "      <th></th>\n",
       "      <th>id</th>\n",
       "      <th>age</th>\n",
       "      <th>gender</th>\n",
       "      <th>height</th>\n",
       "      <th>weight</th>\n",
       "      <th>ap_hi</th>\n",
       "      <th>ap_lo</th>\n",
       "      <th>cholesterol</th>\n",
       "      <th>gluc</th>\n",
       "      <th>smoke</th>\n",
       "      <th>alco</th>\n",
       "      <th>active</th>\n",
       "      <th>cardio</th>\n",
       "    </tr>\n",
       "  </thead>\n",
       "  <tbody>\n",
       "    <tr>\n",
       "      <th>0</th>\n",
       "      <td>0</td>\n",
       "      <td>50</td>\n",
       "      <td>2</td>\n",
       "      <td>168</td>\n",
       "      <td>62.0</td>\n",
       "      <td>110</td>\n",
       "      <td>80</td>\n",
       "      <td>1</td>\n",
       "      <td>1</td>\n",
       "      <td>0</td>\n",
       "      <td>0</td>\n",
       "      <td>1</td>\n",
       "      <td>0</td>\n",
       "    </tr>\n",
       "    <tr>\n",
       "      <th>1</th>\n",
       "      <td>1</td>\n",
       "      <td>55</td>\n",
       "      <td>1</td>\n",
       "      <td>156</td>\n",
       "      <td>85.0</td>\n",
       "      <td>140</td>\n",
       "      <td>90</td>\n",
       "      <td>3</td>\n",
       "      <td>1</td>\n",
       "      <td>0</td>\n",
       "      <td>0</td>\n",
       "      <td>1</td>\n",
       "      <td>1</td>\n",
       "    </tr>\n",
       "    <tr>\n",
       "      <th>2</th>\n",
       "      <td>2</td>\n",
       "      <td>52</td>\n",
       "      <td>1</td>\n",
       "      <td>165</td>\n",
       "      <td>64.0</td>\n",
       "      <td>130</td>\n",
       "      <td>70</td>\n",
       "      <td>3</td>\n",
       "      <td>1</td>\n",
       "      <td>0</td>\n",
       "      <td>0</td>\n",
       "      <td>0</td>\n",
       "      <td>1</td>\n",
       "    </tr>\n",
       "    <tr>\n",
       "      <th>3</th>\n",
       "      <td>3</td>\n",
       "      <td>48</td>\n",
       "      <td>2</td>\n",
       "      <td>169</td>\n",
       "      <td>82.0</td>\n",
       "      <td>150</td>\n",
       "      <td>100</td>\n",
       "      <td>1</td>\n",
       "      <td>1</td>\n",
       "      <td>0</td>\n",
       "      <td>0</td>\n",
       "      <td>1</td>\n",
       "      <td>1</td>\n",
       "    </tr>\n",
       "    <tr>\n",
       "      <th>4</th>\n",
       "      <td>4</td>\n",
       "      <td>48</td>\n",
       "      <td>1</td>\n",
       "      <td>156</td>\n",
       "      <td>56.0</td>\n",
       "      <td>100</td>\n",
       "      <td>60</td>\n",
       "      <td>1</td>\n",
       "      <td>1</td>\n",
       "      <td>0</td>\n",
       "      <td>0</td>\n",
       "      <td>0</td>\n",
       "      <td>0</td>\n",
       "    </tr>\n",
       "  </tbody>\n",
       "</table>\n",
       "</div>"
      ],
      "text/plain": [
       "   id  age  gender  height  weight  ap_hi  ap_lo  cholesterol  gluc  smoke  \\\n",
       "0   0   50       2     168    62.0    110     80            1     1      0   \n",
       "1   1   55       1     156    85.0    140     90            3     1      0   \n",
       "2   2   52       1     165    64.0    130     70            3     1      0   \n",
       "3   3   48       2     169    82.0    150    100            1     1      0   \n",
       "4   4   48       1     156    56.0    100     60            1     1      0   \n",
       "\n",
       "   alco  active  cardio  \n",
       "0     0       1       0  \n",
       "1     0       1       1  \n",
       "2     0       0       1  \n",
       "3     0       1       1  \n",
       "4     0       0       0  "
      ]
     },
     "execution_count": 313,
     "metadata": {},
     "output_type": "execute_result"
    }
   ],
   "source": [
    "data['age'] = data['age'].apply(lambda x: round(x/365)) # Converting the days to years\n",
    "data.head() # Displaying the first five rows of the loaded data"
   ]
  },
  {
   "cell_type": "markdown",
   "id": "076e2b27",
   "metadata": {},
   "source": [
    "This helps give a better description of the age to be used in analysis"
   ]
  },
  {
   "cell_type": "code",
   "execution_count": 314,
   "id": "f0a05b37",
   "metadata": {},
   "outputs": [
    {
     "data": {
      "text/html": [
       "<div>\n",
       "<style scoped>\n",
       "    .dataframe tbody tr th:only-of-type {\n",
       "        vertical-align: middle;\n",
       "    }\n",
       "\n",
       "    .dataframe tbody tr th {\n",
       "        vertical-align: top;\n",
       "    }\n",
       "\n",
       "    .dataframe thead th {\n",
       "        text-align: right;\n",
       "    }\n",
       "</style>\n",
       "<table border=\"1\" class=\"dataframe\">\n",
       "  <thead>\n",
       "    <tr style=\"text-align: right;\">\n",
       "      <th></th>\n",
       "      <th>id</th>\n",
       "      <th>age</th>\n",
       "      <th>gender</th>\n",
       "      <th>height</th>\n",
       "      <th>weight</th>\n",
       "      <th>ap_hi</th>\n",
       "      <th>ap_lo</th>\n",
       "      <th>cholesterol</th>\n",
       "      <th>gluc</th>\n",
       "      <th>smoke</th>\n",
       "      <th>alco</th>\n",
       "      <th>active</th>\n",
       "      <th>cardio</th>\n",
       "    </tr>\n",
       "  </thead>\n",
       "  <tbody>\n",
       "    <tr>\n",
       "      <th>0</th>\n",
       "      <td>0</td>\n",
       "      <td>50</td>\n",
       "      <td>male</td>\n",
       "      <td>168</td>\n",
       "      <td>62.0</td>\n",
       "      <td>110</td>\n",
       "      <td>80</td>\n",
       "      <td>1</td>\n",
       "      <td>1</td>\n",
       "      <td>0</td>\n",
       "      <td>0</td>\n",
       "      <td>1</td>\n",
       "      <td>0</td>\n",
       "    </tr>\n",
       "    <tr>\n",
       "      <th>1</th>\n",
       "      <td>1</td>\n",
       "      <td>55</td>\n",
       "      <td>female</td>\n",
       "      <td>156</td>\n",
       "      <td>85.0</td>\n",
       "      <td>140</td>\n",
       "      <td>90</td>\n",
       "      <td>3</td>\n",
       "      <td>1</td>\n",
       "      <td>0</td>\n",
       "      <td>0</td>\n",
       "      <td>1</td>\n",
       "      <td>1</td>\n",
       "    </tr>\n",
       "    <tr>\n",
       "      <th>2</th>\n",
       "      <td>2</td>\n",
       "      <td>52</td>\n",
       "      <td>female</td>\n",
       "      <td>165</td>\n",
       "      <td>64.0</td>\n",
       "      <td>130</td>\n",
       "      <td>70</td>\n",
       "      <td>3</td>\n",
       "      <td>1</td>\n",
       "      <td>0</td>\n",
       "      <td>0</td>\n",
       "      <td>0</td>\n",
       "      <td>1</td>\n",
       "    </tr>\n",
       "    <tr>\n",
       "      <th>3</th>\n",
       "      <td>3</td>\n",
       "      <td>48</td>\n",
       "      <td>male</td>\n",
       "      <td>169</td>\n",
       "      <td>82.0</td>\n",
       "      <td>150</td>\n",
       "      <td>100</td>\n",
       "      <td>1</td>\n",
       "      <td>1</td>\n",
       "      <td>0</td>\n",
       "      <td>0</td>\n",
       "      <td>1</td>\n",
       "      <td>1</td>\n",
       "    </tr>\n",
       "    <tr>\n",
       "      <th>4</th>\n",
       "      <td>4</td>\n",
       "      <td>48</td>\n",
       "      <td>female</td>\n",
       "      <td>156</td>\n",
       "      <td>56.0</td>\n",
       "      <td>100</td>\n",
       "      <td>60</td>\n",
       "      <td>1</td>\n",
       "      <td>1</td>\n",
       "      <td>0</td>\n",
       "      <td>0</td>\n",
       "      <td>0</td>\n",
       "      <td>0</td>\n",
       "    </tr>\n",
       "  </tbody>\n",
       "</table>\n",
       "</div>"
      ],
      "text/plain": [
       "   id  age  gender  height  weight  ap_hi  ap_lo  cholesterol  gluc  smoke  \\\n",
       "0   0   50    male     168    62.0    110     80            1     1      0   \n",
       "1   1   55  female     156    85.0    140     90            3     1      0   \n",
       "2   2   52  female     165    64.0    130     70            3     1      0   \n",
       "3   3   48    male     169    82.0    150    100            1     1      0   \n",
       "4   4   48  female     156    56.0    100     60            1     1      0   \n",
       "\n",
       "   alco  active  cardio  \n",
       "0     0       1       0  \n",
       "1     0       1       1  \n",
       "2     0       0       1  \n",
       "3     0       1       1  \n",
       "4     0       0       0  "
      ]
     },
     "execution_count": 314,
     "metadata": {},
     "output_type": "execute_result"
    }
   ],
   "source": [
    "mapping = {2: 'male', 1: 'female'} # Define a dictionary to map values\n",
    "data['gender'] = data['gender'].replace(mapping) # Replace values in 'gender' column\n",
    "data.head() # Print the updated table 5 top values"
   ]
  },
  {
   "cell_type": "markdown",
   "id": "b8db3ff2",
   "metadata": {},
   "source": [
    "The mapping of the values in the gender row to their gender equivalent according to the metadata on kaggle gives the data more meaning and hopefully a better analysis could be conducted."
   ]
  },
  {
   "cell_type": "code",
   "execution_count": 315,
   "id": "6b78d117",
   "metadata": {},
   "outputs": [
    {
     "data": {
      "text/plain": [
       "0    35021\n",
       "1    34979\n",
       "Name: cardio, dtype: int64"
      ]
     },
     "execution_count": 315,
     "metadata": {},
     "output_type": "execute_result"
    }
   ],
   "source": [
    "data['cardio'].value_counts() #Counts the frequency of each unique value in the cardio column (Target) of the dataset"
   ]
  },
  {
   "cell_type": "markdown",
   "id": "c0476081",
   "metadata": {},
   "source": [
    "The count implies that there is a fair distribution of individuals with cardiac diseases and those that dont."
   ]
  },
  {
   "cell_type": "code",
   "execution_count": 316,
   "id": "e744d818",
   "metadata": {},
   "outputs": [
    {
     "data": {
      "text/plain": [
       "id               int64\n",
       "age              int64\n",
       "gender          object\n",
       "height           int64\n",
       "weight         float64\n",
       "ap_hi            int64\n",
       "ap_lo            int64\n",
       "cholesterol      int64\n",
       "gluc             int64\n",
       "smoke            int64\n",
       "alco             int64\n",
       "active           int64\n",
       "cardio           int64\n",
       "dtype: object"
      ]
     },
     "execution_count": 316,
     "metadata": {},
     "output_type": "execute_result"
    }
   ],
   "source": [
    "data.dtypes # Checking the data types of values under each column in the dataset"
   ]
  },
  {
   "cell_type": "code",
   "execution_count": 317,
   "id": "a0ad1704",
   "metadata": {},
   "outputs": [
    {
     "data": {
      "text/plain": [
       "id             0\n",
       "age            0\n",
       "gender         0\n",
       "height         0\n",
       "weight         0\n",
       "ap_hi          0\n",
       "ap_lo          0\n",
       "cholesterol    0\n",
       "gluc           0\n",
       "smoke          0\n",
       "alco           0\n",
       "active         0\n",
       "cardio         0\n",
       "dtype: int64"
      ]
     },
     "execution_count": 317,
     "metadata": {},
     "output_type": "execute_result"
    }
   ],
   "source": [
    "null_values = data.isnull().sum() #This checks for missing values in the dataframe\n",
    "null_values #Displays the null values"
   ]
  },
  {
   "cell_type": "code",
   "execution_count": 318,
   "id": "e93e50ec",
   "metadata": {},
   "outputs": [
    {
     "data": {
      "text/plain": [
       "female    45530\n",
       "male      24470\n",
       "Name: gender, dtype: int64"
      ]
     },
     "execution_count": 318,
     "metadata": {},
     "output_type": "execute_result"
    }
   ],
   "source": [
    "data['gender'].value_counts() #Counts the frequency of each unique value in the gender column of the dataset"
   ]
  },
  {
   "cell_type": "markdown",
   "id": "e1883075",
   "metadata": {},
   "source": [
    "This shows some sort of bias in the dataset as we have almost 2x the number of females involved in the dataset than males leading to an under-representation of the male population in the dataset"
   ]
  },
  {
   "cell_type": "code",
   "execution_count": 319,
   "id": "271079ec",
   "metadata": {},
   "outputs": [
    {
     "data": {
      "text/html": [
       "<div>\n",
       "<style scoped>\n",
       "    .dataframe tbody tr th:only-of-type {\n",
       "        vertical-align: middle;\n",
       "    }\n",
       "\n",
       "    .dataframe tbody tr th {\n",
       "        vertical-align: top;\n",
       "    }\n",
       "\n",
       "    .dataframe thead th {\n",
       "        text-align: right;\n",
       "    }\n",
       "</style>\n",
       "<table border=\"1\" class=\"dataframe\">\n",
       "  <thead>\n",
       "    <tr style=\"text-align: right;\">\n",
       "      <th></th>\n",
       "      <th>id</th>\n",
       "      <th>age</th>\n",
       "      <th>gender</th>\n",
       "      <th>height</th>\n",
       "      <th>weight</th>\n",
       "      <th>sys</th>\n",
       "      <th>dia</th>\n",
       "      <th>cholesterol</th>\n",
       "      <th>gluc</th>\n",
       "      <th>smoke</th>\n",
       "      <th>alco</th>\n",
       "      <th>active</th>\n",
       "      <th>cardio</th>\n",
       "    </tr>\n",
       "  </thead>\n",
       "  <tbody>\n",
       "    <tr>\n",
       "      <th>0</th>\n",
       "      <td>0</td>\n",
       "      <td>50</td>\n",
       "      <td>male</td>\n",
       "      <td>168</td>\n",
       "      <td>62.0</td>\n",
       "      <td>110</td>\n",
       "      <td>80</td>\n",
       "      <td>1</td>\n",
       "      <td>1</td>\n",
       "      <td>0</td>\n",
       "      <td>0</td>\n",
       "      <td>1</td>\n",
       "      <td>0</td>\n",
       "    </tr>\n",
       "    <tr>\n",
       "      <th>1</th>\n",
       "      <td>1</td>\n",
       "      <td>55</td>\n",
       "      <td>female</td>\n",
       "      <td>156</td>\n",
       "      <td>85.0</td>\n",
       "      <td>140</td>\n",
       "      <td>90</td>\n",
       "      <td>3</td>\n",
       "      <td>1</td>\n",
       "      <td>0</td>\n",
       "      <td>0</td>\n",
       "      <td>1</td>\n",
       "      <td>1</td>\n",
       "    </tr>\n",
       "    <tr>\n",
       "      <th>2</th>\n",
       "      <td>2</td>\n",
       "      <td>52</td>\n",
       "      <td>female</td>\n",
       "      <td>165</td>\n",
       "      <td>64.0</td>\n",
       "      <td>130</td>\n",
       "      <td>70</td>\n",
       "      <td>3</td>\n",
       "      <td>1</td>\n",
       "      <td>0</td>\n",
       "      <td>0</td>\n",
       "      <td>0</td>\n",
       "      <td>1</td>\n",
       "    </tr>\n",
       "    <tr>\n",
       "      <th>3</th>\n",
       "      <td>3</td>\n",
       "      <td>48</td>\n",
       "      <td>male</td>\n",
       "      <td>169</td>\n",
       "      <td>82.0</td>\n",
       "      <td>150</td>\n",
       "      <td>100</td>\n",
       "      <td>1</td>\n",
       "      <td>1</td>\n",
       "      <td>0</td>\n",
       "      <td>0</td>\n",
       "      <td>1</td>\n",
       "      <td>1</td>\n",
       "    </tr>\n",
       "    <tr>\n",
       "      <th>4</th>\n",
       "      <td>4</td>\n",
       "      <td>48</td>\n",
       "      <td>female</td>\n",
       "      <td>156</td>\n",
       "      <td>56.0</td>\n",
       "      <td>100</td>\n",
       "      <td>60</td>\n",
       "      <td>1</td>\n",
       "      <td>1</td>\n",
       "      <td>0</td>\n",
       "      <td>0</td>\n",
       "      <td>0</td>\n",
       "      <td>0</td>\n",
       "    </tr>\n",
       "  </tbody>\n",
       "</table>\n",
       "</div>"
      ],
      "text/plain": [
       "   id  age  gender  height  weight  sys  dia  cholesterol  gluc  smoke  alco  \\\n",
       "0   0   50    male     168    62.0  110   80            1     1      0     0   \n",
       "1   1   55  female     156    85.0  140   90            3     1      0     0   \n",
       "2   2   52  female     165    64.0  130   70            3     1      0     0   \n",
       "3   3   48    male     169    82.0  150  100            1     1      0     0   \n",
       "4   4   48  female     156    56.0  100   60            1     1      0     0   \n",
       "\n",
       "   active  cardio  \n",
       "0       1       0  \n",
       "1       1       1  \n",
       "2       0       1  \n",
       "3       1       1  \n",
       "4       0       0  "
      ]
     },
     "execution_count": 319,
     "metadata": {},
     "output_type": "execute_result"
    }
   ],
   "source": [
    "data.rename(columns = {\"ap_hi\": \"sys\"}, inplace = True) #Renames the ap_hi column to its proper tag 'sys' which is short for systolic\n",
    "data.rename(columns = {\"ap_lo\": \"dia\"}, inplace = True) #Renames the ap_lo column to its proper tag 'dia' which is short for diatolic\n",
    "data.head() #Displays first five values of the new table"
   ]
  },
  {
   "cell_type": "markdown",
   "id": "eef8690a",
   "metadata": {},
   "source": [
    "The relabelling of the ap_hi and ap_lo coumns to sys and dia respectively gives a better understanding of what the values represent in the dataset and also helps during analysis"
   ]
  },
  {
   "cell_type": "code",
   "execution_count": 320,
   "id": "392de54b",
   "metadata": {},
   "outputs": [
    {
     "data": {
      "text/html": [
       "<div>\n",
       "<style scoped>\n",
       "    .dataframe tbody tr th:only-of-type {\n",
       "        vertical-align: middle;\n",
       "    }\n",
       "\n",
       "    .dataframe tbody tr th {\n",
       "        vertical-align: top;\n",
       "    }\n",
       "\n",
       "    .dataframe thead th {\n",
       "        text-align: right;\n",
       "    }\n",
       "</style>\n",
       "<table border=\"1\" class=\"dataframe\">\n",
       "  <thead>\n",
       "    <tr style=\"text-align: right;\">\n",
       "      <th></th>\n",
       "      <th>id</th>\n",
       "      <th>age</th>\n",
       "      <th>gender</th>\n",
       "      <th>height</th>\n",
       "      <th>weight</th>\n",
       "      <th>sys</th>\n",
       "      <th>dia</th>\n",
       "      <th>cholesterol</th>\n",
       "      <th>gluc</th>\n",
       "      <th>smoke</th>\n",
       "      <th>alco</th>\n",
       "      <th>active</th>\n",
       "      <th>cardio</th>\n",
       "    </tr>\n",
       "  </thead>\n",
       "  <tbody>\n",
       "    <tr>\n",
       "      <th>0</th>\n",
       "      <td>0</td>\n",
       "      <td>50</td>\n",
       "      <td>male</td>\n",
       "      <td>1.68</td>\n",
       "      <td>62.0</td>\n",
       "      <td>110</td>\n",
       "      <td>80</td>\n",
       "      <td>1</td>\n",
       "      <td>1</td>\n",
       "      <td>0</td>\n",
       "      <td>0</td>\n",
       "      <td>1</td>\n",
       "      <td>0</td>\n",
       "    </tr>\n",
       "    <tr>\n",
       "      <th>1</th>\n",
       "      <td>1</td>\n",
       "      <td>55</td>\n",
       "      <td>female</td>\n",
       "      <td>1.56</td>\n",
       "      <td>85.0</td>\n",
       "      <td>140</td>\n",
       "      <td>90</td>\n",
       "      <td>3</td>\n",
       "      <td>1</td>\n",
       "      <td>0</td>\n",
       "      <td>0</td>\n",
       "      <td>1</td>\n",
       "      <td>1</td>\n",
       "    </tr>\n",
       "    <tr>\n",
       "      <th>2</th>\n",
       "      <td>2</td>\n",
       "      <td>52</td>\n",
       "      <td>female</td>\n",
       "      <td>1.65</td>\n",
       "      <td>64.0</td>\n",
       "      <td>130</td>\n",
       "      <td>70</td>\n",
       "      <td>3</td>\n",
       "      <td>1</td>\n",
       "      <td>0</td>\n",
       "      <td>0</td>\n",
       "      <td>0</td>\n",
       "      <td>1</td>\n",
       "    </tr>\n",
       "    <tr>\n",
       "      <th>3</th>\n",
       "      <td>3</td>\n",
       "      <td>48</td>\n",
       "      <td>male</td>\n",
       "      <td>1.69</td>\n",
       "      <td>82.0</td>\n",
       "      <td>150</td>\n",
       "      <td>100</td>\n",
       "      <td>1</td>\n",
       "      <td>1</td>\n",
       "      <td>0</td>\n",
       "      <td>0</td>\n",
       "      <td>1</td>\n",
       "      <td>1</td>\n",
       "    </tr>\n",
       "    <tr>\n",
       "      <th>4</th>\n",
       "      <td>4</td>\n",
       "      <td>48</td>\n",
       "      <td>female</td>\n",
       "      <td>1.56</td>\n",
       "      <td>56.0</td>\n",
       "      <td>100</td>\n",
       "      <td>60</td>\n",
       "      <td>1</td>\n",
       "      <td>1</td>\n",
       "      <td>0</td>\n",
       "      <td>0</td>\n",
       "      <td>0</td>\n",
       "      <td>0</td>\n",
       "    </tr>\n",
       "  </tbody>\n",
       "</table>\n",
       "</div>"
      ],
      "text/plain": [
       "   id  age  gender  height  weight  sys  dia  cholesterol  gluc  smoke  alco  \\\n",
       "0   0   50    male    1.68    62.0  110   80            1     1      0     0   \n",
       "1   1   55  female    1.56    85.0  140   90            3     1      0     0   \n",
       "2   2   52  female    1.65    64.0  130   70            3     1      0     0   \n",
       "3   3   48    male    1.69    82.0  150  100            1     1      0     0   \n",
       "4   4   48  female    1.56    56.0  100   60            1     1      0     0   \n",
       "\n",
       "   active  cardio  \n",
       "0       1       0  \n",
       "1       1       1  \n",
       "2       0       1  \n",
       "3       1       1  \n",
       "4       0       0  "
      ]
     },
     "execution_count": 320,
     "metadata": {},
     "output_type": "execute_result"
    }
   ],
   "source": [
    "# Converts  the values in the height column which are currently in centimeters according to the metadata to meters \n",
    "data['height'] = data['height'] / 100\n",
    "data.head()"
   ]
  },
  {
   "cell_type": "markdown",
   "id": "2fc6261d",
   "metadata": {},
   "source": [
    "The reason for the conversion is to help in the calculation of a body mass index(BMI) which is calculated as the weight(kg)/height2(m2)"
   ]
  },
  {
   "cell_type": "code",
   "execution_count": 321,
   "id": "1d813f2c",
   "metadata": {},
   "outputs": [
    {
     "data": {
      "text/html": [
       "<div>\n",
       "<style scoped>\n",
       "    .dataframe tbody tr th:only-of-type {\n",
       "        vertical-align: middle;\n",
       "    }\n",
       "\n",
       "    .dataframe tbody tr th {\n",
       "        vertical-align: top;\n",
       "    }\n",
       "\n",
       "    .dataframe thead th {\n",
       "        text-align: right;\n",
       "    }\n",
       "</style>\n",
       "<table border=\"1\" class=\"dataframe\">\n",
       "  <thead>\n",
       "    <tr style=\"text-align: right;\">\n",
       "      <th></th>\n",
       "      <th>id</th>\n",
       "      <th>age</th>\n",
       "      <th>gender</th>\n",
       "      <th>height</th>\n",
       "      <th>weight</th>\n",
       "      <th>sys</th>\n",
       "      <th>dia</th>\n",
       "      <th>cholesterol</th>\n",
       "      <th>gluc</th>\n",
       "      <th>smoke</th>\n",
       "      <th>alco</th>\n",
       "      <th>active</th>\n",
       "      <th>cardio</th>\n",
       "      <th>bmi</th>\n",
       "    </tr>\n",
       "  </thead>\n",
       "  <tbody>\n",
       "    <tr>\n",
       "      <th>0</th>\n",
       "      <td>0</td>\n",
       "      <td>50</td>\n",
       "      <td>male</td>\n",
       "      <td>1.68</td>\n",
       "      <td>62.0</td>\n",
       "      <td>110</td>\n",
       "      <td>80</td>\n",
       "      <td>1</td>\n",
       "      <td>1</td>\n",
       "      <td>0</td>\n",
       "      <td>0</td>\n",
       "      <td>1</td>\n",
       "      <td>0</td>\n",
       "      <td>22.0</td>\n",
       "    </tr>\n",
       "    <tr>\n",
       "      <th>1</th>\n",
       "      <td>1</td>\n",
       "      <td>55</td>\n",
       "      <td>female</td>\n",
       "      <td>1.56</td>\n",
       "      <td>85.0</td>\n",
       "      <td>140</td>\n",
       "      <td>90</td>\n",
       "      <td>3</td>\n",
       "      <td>1</td>\n",
       "      <td>0</td>\n",
       "      <td>0</td>\n",
       "      <td>1</td>\n",
       "      <td>1</td>\n",
       "      <td>34.9</td>\n",
       "    </tr>\n",
       "    <tr>\n",
       "      <th>2</th>\n",
       "      <td>2</td>\n",
       "      <td>52</td>\n",
       "      <td>female</td>\n",
       "      <td>1.65</td>\n",
       "      <td>64.0</td>\n",
       "      <td>130</td>\n",
       "      <td>70</td>\n",
       "      <td>3</td>\n",
       "      <td>1</td>\n",
       "      <td>0</td>\n",
       "      <td>0</td>\n",
       "      <td>0</td>\n",
       "      <td>1</td>\n",
       "      <td>23.5</td>\n",
       "    </tr>\n",
       "    <tr>\n",
       "      <th>3</th>\n",
       "      <td>3</td>\n",
       "      <td>48</td>\n",
       "      <td>male</td>\n",
       "      <td>1.69</td>\n",
       "      <td>82.0</td>\n",
       "      <td>150</td>\n",
       "      <td>100</td>\n",
       "      <td>1</td>\n",
       "      <td>1</td>\n",
       "      <td>0</td>\n",
       "      <td>0</td>\n",
       "      <td>1</td>\n",
       "      <td>1</td>\n",
       "      <td>28.7</td>\n",
       "    </tr>\n",
       "    <tr>\n",
       "      <th>4</th>\n",
       "      <td>4</td>\n",
       "      <td>48</td>\n",
       "      <td>female</td>\n",
       "      <td>1.56</td>\n",
       "      <td>56.0</td>\n",
       "      <td>100</td>\n",
       "      <td>60</td>\n",
       "      <td>1</td>\n",
       "      <td>1</td>\n",
       "      <td>0</td>\n",
       "      <td>0</td>\n",
       "      <td>0</td>\n",
       "      <td>0</td>\n",
       "      <td>23.0</td>\n",
       "    </tr>\n",
       "  </tbody>\n",
       "</table>\n",
       "</div>"
      ],
      "text/plain": [
       "   id  age  gender  height  weight  sys  dia  cholesterol  gluc  smoke  alco  \\\n",
       "0   0   50    male    1.68    62.0  110   80            1     1      0     0   \n",
       "1   1   55  female    1.56    85.0  140   90            3     1      0     0   \n",
       "2   2   52  female    1.65    64.0  130   70            3     1      0     0   \n",
       "3   3   48    male    1.69    82.0  150  100            1     1      0     0   \n",
       "4   4   48  female    1.56    56.0  100   60            1     1      0     0   \n",
       "\n",
       "   active  cardio   bmi  \n",
       "0       1       0  22.0  \n",
       "1       1       1  34.9  \n",
       "2       0       1  23.5  \n",
       "3       1       1  28.7  \n",
       "4       0       0  23.0  "
      ]
     },
     "execution_count": 321,
     "metadata": {},
     "output_type": "execute_result"
    }
   ],
   "source": [
    "data['bmi'] = data['weight'] / ((data['height'])**2) # Calculating the body mass index (BMI) using weight and height columns\n",
    "data['bmi'] = data['bmi'].round(1) # Rounding the BMI values to one decimal place\n",
    "data.head() # Displaying the first five rows of the updated DataFrame"
   ]
  },
  {
   "cell_type": "code",
   "execution_count": 322,
   "id": "bf2f6308",
   "metadata": {},
   "outputs": [
    {
     "data": {
      "text/html": [
       "<div>\n",
       "<style scoped>\n",
       "    .dataframe tbody tr th:only-of-type {\n",
       "        vertical-align: middle;\n",
       "    }\n",
       "\n",
       "    .dataframe tbody tr th {\n",
       "        vertical-align: top;\n",
       "    }\n",
       "\n",
       "    .dataframe thead th {\n",
       "        text-align: right;\n",
       "    }\n",
       "</style>\n",
       "<table border=\"1\" class=\"dataframe\">\n",
       "  <thead>\n",
       "    <tr style=\"text-align: right;\">\n",
       "      <th></th>\n",
       "      <th>id</th>\n",
       "      <th>age</th>\n",
       "      <th>gender</th>\n",
       "      <th>height</th>\n",
       "      <th>weight</th>\n",
       "      <th>sys</th>\n",
       "      <th>dia</th>\n",
       "      <th>cholesterol</th>\n",
       "      <th>gluc</th>\n",
       "      <th>smoke</th>\n",
       "      <th>alco</th>\n",
       "      <th>active</th>\n",
       "      <th>cardio</th>\n",
       "      <th>bmi</th>\n",
       "      <th>bmi_class</th>\n",
       "    </tr>\n",
       "  </thead>\n",
       "  <tbody>\n",
       "    <tr>\n",
       "      <th>0</th>\n",
       "      <td>0</td>\n",
       "      <td>50</td>\n",
       "      <td>male</td>\n",
       "      <td>1.68</td>\n",
       "      <td>62.0</td>\n",
       "      <td>110</td>\n",
       "      <td>80</td>\n",
       "      <td>1</td>\n",
       "      <td>1</td>\n",
       "      <td>0</td>\n",
       "      <td>0</td>\n",
       "      <td>1</td>\n",
       "      <td>0</td>\n",
       "      <td>22.0</td>\n",
       "      <td>2</td>\n",
       "    </tr>\n",
       "    <tr>\n",
       "      <th>1</th>\n",
       "      <td>1</td>\n",
       "      <td>55</td>\n",
       "      <td>female</td>\n",
       "      <td>1.56</td>\n",
       "      <td>85.0</td>\n",
       "      <td>140</td>\n",
       "      <td>90</td>\n",
       "      <td>3</td>\n",
       "      <td>1</td>\n",
       "      <td>0</td>\n",
       "      <td>0</td>\n",
       "      <td>1</td>\n",
       "      <td>1</td>\n",
       "      <td>34.9</td>\n",
       "      <td>4</td>\n",
       "    </tr>\n",
       "    <tr>\n",
       "      <th>2</th>\n",
       "      <td>2</td>\n",
       "      <td>52</td>\n",
       "      <td>female</td>\n",
       "      <td>1.65</td>\n",
       "      <td>64.0</td>\n",
       "      <td>130</td>\n",
       "      <td>70</td>\n",
       "      <td>3</td>\n",
       "      <td>1</td>\n",
       "      <td>0</td>\n",
       "      <td>0</td>\n",
       "      <td>0</td>\n",
       "      <td>1</td>\n",
       "      <td>23.5</td>\n",
       "      <td>2</td>\n",
       "    </tr>\n",
       "    <tr>\n",
       "      <th>3</th>\n",
       "      <td>3</td>\n",
       "      <td>48</td>\n",
       "      <td>male</td>\n",
       "      <td>1.69</td>\n",
       "      <td>82.0</td>\n",
       "      <td>150</td>\n",
       "      <td>100</td>\n",
       "      <td>1</td>\n",
       "      <td>1</td>\n",
       "      <td>0</td>\n",
       "      <td>0</td>\n",
       "      <td>1</td>\n",
       "      <td>1</td>\n",
       "      <td>28.7</td>\n",
       "      <td>3</td>\n",
       "    </tr>\n",
       "    <tr>\n",
       "      <th>4</th>\n",
       "      <td>4</td>\n",
       "      <td>48</td>\n",
       "      <td>female</td>\n",
       "      <td>1.56</td>\n",
       "      <td>56.0</td>\n",
       "      <td>100</td>\n",
       "      <td>60</td>\n",
       "      <td>1</td>\n",
       "      <td>1</td>\n",
       "      <td>0</td>\n",
       "      <td>0</td>\n",
       "      <td>0</td>\n",
       "      <td>0</td>\n",
       "      <td>23.0</td>\n",
       "      <td>2</td>\n",
       "    </tr>\n",
       "  </tbody>\n",
       "</table>\n",
       "</div>"
      ],
      "text/plain": [
       "   id  age  gender  height  weight  sys  dia  cholesterol  gluc  smoke  alco  \\\n",
       "0   0   50    male    1.68    62.0  110   80            1     1      0     0   \n",
       "1   1   55  female    1.56    85.0  140   90            3     1      0     0   \n",
       "2   2   52  female    1.65    64.0  130   70            3     1      0     0   \n",
       "3   3   48    male    1.69    82.0  150  100            1     1      0     0   \n",
       "4   4   48  female    1.56    56.0  100   60            1     1      0     0   \n",
       "\n",
       "   active  cardio   bmi  bmi_class  \n",
       "0       1       0  22.0          2  \n",
       "1       1       1  34.9          4  \n",
       "2       0       1  23.5          2  \n",
       "3       1       1  28.7          3  \n",
       "4       0       0  23.0          2  "
      ]
     },
     "execution_count": 322,
     "metadata": {},
     "output_type": "execute_result"
    }
   ],
   "source": [
    "# Define BMI ranges and corresponding classes\n",
    "\n",
    "bmi_ranges = [\n",
    "    (data[\"bmi\"] <= 17.5),                                 # 0 - Anorexic\n",
    "    (data[\"bmi\"] > 17.5) & (data[\"bmi\"] < 18.5),           # 1 - Underweight\n",
    "    (data[\"bmi\"] >= 18.5) & (data[\"bmi\"] <= 24.9),         # 2 - Normal weight\n",
    "    (data[\"bmi\"] >= 25.0) & (data[\"bmi\"] <= 29.9),         # 3 - Overweight\n",
    "    (data[\"bmi\"] >= 30.0) & (data[\"bmi\"] <= 34.9),         # 4 - Obesity Class I\n",
    "    (data[\"bmi\"] >= 35.0) & (data[\"bmi\"] <= 39.9),         # 5 - Obesity Class II\n",
    "    (data[\"bmi\"] >= 40.0)                                  # 6 - Obesity Class III \n",
    "]\n",
    "\n",
    "classes = [0, 1, 2, 3, 4, 5, 6]\n",
    "\n",
    "data[\"bmi_class\"] = np.select(bmi_ranges, classes) # Assign BMI class to each data point using np.select()\n",
    "data.head() # Displaying the first few rows of the updated DataFrame"
   ]
  },
  {
   "cell_type": "code",
   "execution_count": 323,
   "id": "8b2be42c",
   "metadata": {},
   "outputs": [
    {
     "data": {
      "text/html": [
       "<div>\n",
       "<style scoped>\n",
       "    .dataframe tbody tr th:only-of-type {\n",
       "        vertical-align: middle;\n",
       "    }\n",
       "\n",
       "    .dataframe tbody tr th {\n",
       "        vertical-align: top;\n",
       "    }\n",
       "\n",
       "    .dataframe thead th {\n",
       "        text-align: right;\n",
       "    }\n",
       "</style>\n",
       "<table border=\"1\" class=\"dataframe\">\n",
       "  <thead>\n",
       "    <tr style=\"text-align: right;\">\n",
       "      <th></th>\n",
       "      <th>id</th>\n",
       "      <th>age</th>\n",
       "      <th>gender</th>\n",
       "      <th>height</th>\n",
       "      <th>weight</th>\n",
       "      <th>sys</th>\n",
       "      <th>dia</th>\n",
       "      <th>cholesterol</th>\n",
       "      <th>gluc</th>\n",
       "      <th>smoke</th>\n",
       "      <th>alco</th>\n",
       "      <th>active</th>\n",
       "      <th>cardio</th>\n",
       "      <th>bmi</th>\n",
       "      <th>bmi_class</th>\n",
       "      <th>blood pressure</th>\n",
       "    </tr>\n",
       "  </thead>\n",
       "  <tbody>\n",
       "    <tr>\n",
       "      <th>0</th>\n",
       "      <td>0</td>\n",
       "      <td>50</td>\n",
       "      <td>male</td>\n",
       "      <td>1.68</td>\n",
       "      <td>62.0</td>\n",
       "      <td>110</td>\n",
       "      <td>80</td>\n",
       "      <td>1</td>\n",
       "      <td>1</td>\n",
       "      <td>0</td>\n",
       "      <td>0</td>\n",
       "      <td>1</td>\n",
       "      <td>0</td>\n",
       "      <td>22.0</td>\n",
       "      <td>2</td>\n",
       "      <td>0</td>\n",
       "    </tr>\n",
       "    <tr>\n",
       "      <th>1</th>\n",
       "      <td>1</td>\n",
       "      <td>55</td>\n",
       "      <td>female</td>\n",
       "      <td>1.56</td>\n",
       "      <td>85.0</td>\n",
       "      <td>140</td>\n",
       "      <td>90</td>\n",
       "      <td>3</td>\n",
       "      <td>1</td>\n",
       "      <td>0</td>\n",
       "      <td>0</td>\n",
       "      <td>1</td>\n",
       "      <td>1</td>\n",
       "      <td>34.9</td>\n",
       "      <td>4</td>\n",
       "      <td>0</td>\n",
       "    </tr>\n",
       "    <tr>\n",
       "      <th>2</th>\n",
       "      <td>2</td>\n",
       "      <td>52</td>\n",
       "      <td>female</td>\n",
       "      <td>1.65</td>\n",
       "      <td>64.0</td>\n",
       "      <td>130</td>\n",
       "      <td>70</td>\n",
       "      <td>3</td>\n",
       "      <td>1</td>\n",
       "      <td>0</td>\n",
       "      <td>0</td>\n",
       "      <td>0</td>\n",
       "      <td>1</td>\n",
       "      <td>23.5</td>\n",
       "      <td>2</td>\n",
       "      <td>0</td>\n",
       "    </tr>\n",
       "    <tr>\n",
       "      <th>3</th>\n",
       "      <td>3</td>\n",
       "      <td>48</td>\n",
       "      <td>male</td>\n",
       "      <td>1.69</td>\n",
       "      <td>82.0</td>\n",
       "      <td>150</td>\n",
       "      <td>100</td>\n",
       "      <td>1</td>\n",
       "      <td>1</td>\n",
       "      <td>0</td>\n",
       "      <td>0</td>\n",
       "      <td>1</td>\n",
       "      <td>1</td>\n",
       "      <td>28.7</td>\n",
       "      <td>3</td>\n",
       "      <td>1</td>\n",
       "    </tr>\n",
       "    <tr>\n",
       "      <th>4</th>\n",
       "      <td>4</td>\n",
       "      <td>48</td>\n",
       "      <td>female</td>\n",
       "      <td>1.56</td>\n",
       "      <td>56.0</td>\n",
       "      <td>100</td>\n",
       "      <td>60</td>\n",
       "      <td>1</td>\n",
       "      <td>1</td>\n",
       "      <td>0</td>\n",
       "      <td>0</td>\n",
       "      <td>0</td>\n",
       "      <td>0</td>\n",
       "      <td>23.0</td>\n",
       "      <td>2</td>\n",
       "      <td>0</td>\n",
       "    </tr>\n",
       "  </tbody>\n",
       "</table>\n",
       "</div>"
      ],
      "text/plain": [
       "   id  age  gender  height  weight  sys  dia  cholesterol  gluc  smoke  alco  \\\n",
       "0   0   50    male    1.68    62.0  110   80            1     1      0     0   \n",
       "1   1   55  female    1.56    85.0  140   90            3     1      0     0   \n",
       "2   2   52  female    1.65    64.0  130   70            3     1      0     0   \n",
       "3   3   48    male    1.69    82.0  150  100            1     1      0     0   \n",
       "4   4   48  female    1.56    56.0  100   60            1     1      0     0   \n",
       "\n",
       "   active  cardio   bmi  bmi_class  blood pressure  \n",
       "0       1       0  22.0          2               0  \n",
       "1       1       1  34.9          4               0  \n",
       "2       0       1  23.5          2               0  \n",
       "3       1       1  28.7          3               1  \n",
       "4       0       0  23.0          2               0  "
      ]
     },
     "execution_count": 323,
     "metadata": {},
     "output_type": "execute_result"
    }
   ],
   "source": [
    "# This defines a function that divides the population into those with a high blood pressure and those without one\n",
    "def assign_blood_pressure(row):\n",
    "    sys = row['sys']\n",
    "    dia = row['dia']\n",
    "\n",
    "    if sys <= 140 and dia <= 90:\n",
    "        return 0\n",
    "    else:\n",
    "        return 1\n",
    "\n",
    "\n",
    "# Apply the 'assign_blood_pressure' function to each row of the DataFrame\n",
    "# and assign the resulting values to a new column named 'blood pressure'\n",
    "data['blood pressure'] = data.apply(assign_blood_pressure, axis=1)\n",
    "\n",
    "# Display the first five rows of the updated DataFrame\n",
    "data.head()"
   ]
  },
  {
   "cell_type": "markdown",
   "id": "ab5e1a29",
   "metadata": {},
   "source": [
    "The addition of the blood pressure column to the column helps provide better insight into the dataset using the WHO standard of non-hypertensive (<=140/90)"
   ]
  },
  {
   "cell_type": "code",
   "execution_count": 324,
   "id": "33665170",
   "metadata": {},
   "outputs": [
    {
     "data": {
      "text/plain": [
       "array([0, 1])"
      ]
     },
     "execution_count": 324,
     "metadata": {},
     "output_type": "execute_result"
    }
   ],
   "source": [
    "data['blood pressure'].unique() #Ensuring we dont have a NaN value in the blood pressure column"
   ]
  },
  {
   "cell_type": "code",
   "execution_count": 325,
   "id": "109e0ee6",
   "metadata": {},
   "outputs": [
    {
     "data": {
      "text/plain": [
       "array([  110,   140,   130,   150,   100,   120,   145,   170,   135,\n",
       "         125,    90,   180,   160,   133,   190,    80,   122,   169,\n",
       "         126,   158,   200,    14,   123,    70,   161,   147,   115,\n",
       "         137,   153,    11,   148,   105,   220,   119,   141,   165,\n",
       "         164,    12,   124,   172,   902,   162,   906,   117,   134,\n",
       "         166,   210,   176,   116,    10,   121,    16,   112,   159,\n",
       "         113,   118,   155,   142,   131,   157,   136,   146,   138,\n",
       "        -100,   909,   109,    85,   106,   129,    93,     7,    95,\n",
       "         179,   156,   168,   132,   104,   103,   178,   175,   128,\n",
       "         151,    15,   139, 11500,   127,    17,   108,   144,   102,\n",
       "           1,  1420,    13,   143,   701,   107,   184,   149,   167,\n",
       "         114,   101,    60,  1500,   181,   171,   202,  -115,   111,\n",
       "         907,    20,   188,   185,   163,   173,   154,   177,  -140,\n",
       "         174,  -120, 14020,  1400,   240,   191,   197,  1620,   152,\n",
       "          96,   199,  -150,  1130,   193,    99,   196,   309,   401,\n",
       "       16020,  1202,   806,  1300,   230,   207,   215,    97,  1409,\n",
       "       11020,    24,   960, 13010,  1110,   195,  1205,   187,  2000])"
      ]
     },
     "execution_count": 325,
     "metadata": {},
     "output_type": "execute_result"
    }
   ],
   "source": [
    "data['sys'].unique() #Getting a picture of the unique values in the systolic column"
   ]
  },
  {
   "cell_type": "markdown",
   "id": "7f4b1258",
   "metadata": {},
   "source": [
    "The values here show that the data needs some cleaning with negative values and values that seem outrageous for a systolic value"
   ]
  },
  {
   "cell_type": "code",
   "execution_count": 326,
   "id": "e222ea95",
   "metadata": {},
   "outputs": [
    {
     "data": {
      "text/plain": [
       "array([   80,    90,    70,   100,    60,    85,    89,   110,    65,\n",
       "          63,    79,  1100,  1000,   800,   120,    50,    30,   109,\n",
       "          84,  1033,   150,    91,    40,    73,    78,    75,    86,\n",
       "          87,  1001,    82,    95,    69,    74,    97,    81,  1200,\n",
       "          83,   119,     0,    93,   105, 10000,    99,    77,    59,\n",
       "        8044,   140,    92,  1044,   108,   125,   115,    68,    61,\n",
       "         106,   102,    94,    66,    52,   170,    76,   160,    62,\n",
       "          96,   130,   113,    67,  9100,    10,    88,   902,     8,\n",
       "         112,   104,    71,    72,  1008,    98,  2088,    20,   802,\n",
       "        8000,  1022,   850,   708,    57,   101,  9011,  1011,    64,\n",
       "        1007,  1177,  7100,    45,   709,  8500,    58,  1110,  8099,\n",
       "        1088,   126,  1077,  1120,     7,   103,  1125,   180,   121,\n",
       "        8100,   710,  5700,  8079,  1111,  1003,     6,  1900,   809,\n",
       "         114,   801,  1002,    53,   111,     1,   118,    56,   182,\n",
       "         810,     9,  7099, 11000,  9800,  8200,  1139,   107,   820,\n",
       "          55,  1400,   190,   900,   122,  6800,   135,   700,    15,\n",
       "        1101,   910,  1140,  1211,   -70,    54,  8077,   901,   880,\n",
       "         870,   585,    49,   602])"
      ]
     },
     "execution_count": 326,
     "metadata": {},
     "output_type": "execute_result"
    }
   ],
   "source": [
    "data['dia'].unique() #Getting a picture of the unique values in the diastolic column"
   ]
  },
  {
   "cell_type": "markdown",
   "id": "d2d9c298",
   "metadata": {},
   "source": [
    "Same as the systolic values the values in the diastolic column would require some cleaning"
   ]
  },
  {
   "cell_type": "code",
   "execution_count": 327,
   "id": "91512550",
   "metadata": {},
   "outputs": [
    {
     "data": {
      "image/png": "[encoded data removed]",
      "text/plain": [
       "<Figure size 800x600 with 1 Axes>"
      ]
     },
     "metadata": {},
     "output_type": "display_data"
    }
   ],
   "source": [
    "# Checking the distribution for outliers\n",
    "\n",
    "# Creating box plots for 'dia' and 'sys' columns\n",
    "plt.figure(figsize=(8, 6)) # Create a new figure with a specific size\n",
    "plt.boxplot([data['dia'], data['sys']]) # Create a box plot for 'dia' and 'sys' columns\n",
    "plt.xticks([1, 2], ['Dia', 'Sys']) # Set the x-axis tick labels\n",
    "plt.ylabel('Value') # Set the y-axis label\n",
    "plt.title('Box Plot: Dia and Sys') # Set the plot title\n",
    "plt.show() # Display the plot"
   ]
  },
  {
   "cell_type": "code",
   "execution_count": 328,
   "id": "6b7da316",
   "metadata": {},
   "outputs": [
    {
     "data": {
      "text/html": [
       "<div>\n",
       "<style scoped>\n",
       "    .dataframe tbody tr th:only-of-type {\n",
       "        vertical-align: middle;\n",
       "    }\n",
       "\n",
       "    .dataframe tbody tr th {\n",
       "        vertical-align: top;\n",
       "    }\n",
       "\n",
       "    .dataframe thead th {\n",
       "        text-align: right;\n",
       "    }\n",
       "</style>\n",
       "<table border=\"1\" class=\"dataframe\">\n",
       "  <thead>\n",
       "    <tr style=\"text-align: right;\">\n",
       "      <th></th>\n",
       "      <th>id</th>\n",
       "      <th>age</th>\n",
       "      <th>gender</th>\n",
       "      <th>height</th>\n",
       "      <th>weight</th>\n",
       "      <th>sys</th>\n",
       "      <th>dia</th>\n",
       "      <th>cholesterol</th>\n",
       "      <th>gluc</th>\n",
       "      <th>smoke</th>\n",
       "      <th>alco</th>\n",
       "      <th>active</th>\n",
       "      <th>cardio</th>\n",
       "      <th>bmi</th>\n",
       "      <th>bmi_class</th>\n",
       "      <th>blood pressure</th>\n",
       "    </tr>\n",
       "  </thead>\n",
       "  <tbody>\n",
       "    <tr>\n",
       "      <th>0</th>\n",
       "      <td>0</td>\n",
       "      <td>50</td>\n",
       "      <td>male</td>\n",
       "      <td>1.68</td>\n",
       "      <td>62.0</td>\n",
       "      <td>110</td>\n",
       "      <td>80</td>\n",
       "      <td>1</td>\n",
       "      <td>1</td>\n",
       "      <td>0</td>\n",
       "      <td>0</td>\n",
       "      <td>1</td>\n",
       "      <td>0</td>\n",
       "      <td>22.0</td>\n",
       "      <td>2</td>\n",
       "      <td>0</td>\n",
       "    </tr>\n",
       "    <tr>\n",
       "      <th>1</th>\n",
       "      <td>1</td>\n",
       "      <td>55</td>\n",
       "      <td>female</td>\n",
       "      <td>1.56</td>\n",
       "      <td>85.0</td>\n",
       "      <td>140</td>\n",
       "      <td>90</td>\n",
       "      <td>3</td>\n",
       "      <td>1</td>\n",
       "      <td>0</td>\n",
       "      <td>0</td>\n",
       "      <td>1</td>\n",
       "      <td>1</td>\n",
       "      <td>34.9</td>\n",
       "      <td>4</td>\n",
       "      <td>0</td>\n",
       "    </tr>\n",
       "    <tr>\n",
       "      <th>2</th>\n",
       "      <td>2</td>\n",
       "      <td>52</td>\n",
       "      <td>female</td>\n",
       "      <td>1.65</td>\n",
       "      <td>64.0</td>\n",
       "      <td>130</td>\n",
       "      <td>70</td>\n",
       "      <td>3</td>\n",
       "      <td>1</td>\n",
       "      <td>0</td>\n",
       "      <td>0</td>\n",
       "      <td>0</td>\n",
       "      <td>1</td>\n",
       "      <td>23.5</td>\n",
       "      <td>2</td>\n",
       "      <td>0</td>\n",
       "    </tr>\n",
       "    <tr>\n",
       "      <th>3</th>\n",
       "      <td>3</td>\n",
       "      <td>48</td>\n",
       "      <td>male</td>\n",
       "      <td>1.69</td>\n",
       "      <td>82.0</td>\n",
       "      <td>150</td>\n",
       "      <td>100</td>\n",
       "      <td>1</td>\n",
       "      <td>1</td>\n",
       "      <td>0</td>\n",
       "      <td>0</td>\n",
       "      <td>1</td>\n",
       "      <td>1</td>\n",
       "      <td>28.7</td>\n",
       "      <td>3</td>\n",
       "      <td>1</td>\n",
       "    </tr>\n",
       "    <tr>\n",
       "      <th>4</th>\n",
       "      <td>4</td>\n",
       "      <td>48</td>\n",
       "      <td>female</td>\n",
       "      <td>1.56</td>\n",
       "      <td>56.0</td>\n",
       "      <td>100</td>\n",
       "      <td>60</td>\n",
       "      <td>1</td>\n",
       "      <td>1</td>\n",
       "      <td>0</td>\n",
       "      <td>0</td>\n",
       "      <td>0</td>\n",
       "      <td>0</td>\n",
       "      <td>23.0</td>\n",
       "      <td>2</td>\n",
       "      <td>0</td>\n",
       "    </tr>\n",
       "  </tbody>\n",
       "</table>\n",
       "</div>"
      ],
      "text/plain": [
       "   id  age  gender  height  weight  sys  dia  cholesterol  gluc  smoke  alco  \\\n",
       "0   0   50    male    1.68    62.0  110   80            1     1      0     0   \n",
       "1   1   55  female    1.56    85.0  140   90            3     1      0     0   \n",
       "2   2   52  female    1.65    64.0  130   70            3     1      0     0   \n",
       "3   3   48    male    1.69    82.0  150  100            1     1      0     0   \n",
       "4   4   48  female    1.56    56.0  100   60            1     1      0     0   \n",
       "\n",
       "   active  cardio   bmi  bmi_class  blood pressure  \n",
       "0       1       0  22.0          2               0  \n",
       "1       1       1  34.9          4               0  \n",
       "2       0       1  23.5          2               0  \n",
       "3       1       1  28.7          3               1  \n",
       "4       0       0  23.0          2               0  "
      ]
     },
     "execution_count": 328,
     "metadata": {},
     "output_type": "execute_result"
    }
   ],
   "source": [
    "# Function to remove the numbers after the third digit in a value\n",
    "def remove_after_third_digit(number):\n",
    "    if number and len(str(number)) > 3:\n",
    "        return int(str(number)[:3])\n",
    "    return number\n",
    "\n",
    "# Apply the function to 'sys' and 'dia' columns\n",
    "data['sys'] = data['sys'].apply(remove_after_third_digit)\n",
    "data['dia'] = data['dia'].apply(remove_after_third_digit)\n",
    "\n",
    "# Print the updated table\n",
    "data.head()"
   ]
  },
  {
   "cell_type": "markdown",
   "id": "b6b87835",
   "metadata": {},
   "source": [
    "The idea behind removing values after the third value in the sys and dia columns is that there is no possilbilty of having a systolic or diastolic value that is more than 3 values"
   ]
  },
  {
   "cell_type": "code",
   "execution_count": 329,
   "id": "069dbe6a",
   "metadata": {},
   "outputs": [
    {
     "data": {
      "image/png": "[encoded data removed]",
      "text/plain": [
       "<Figure size 800x600 with 1 Axes>"
      ]
     },
     "metadata": {},
     "output_type": "display_data"
    }
   ],
   "source": [
    "# Checking the distribution for outliers\n",
    "\n",
    "# Creating box plots for 'dia' and 'sys' columns\n",
    "plt.figure(figsize=(8, 6))\n",
    "plt.boxplot([data['dia'], data['sys']])\n",
    "plt.xticks([1, 2], ['Dia', 'Sys'])\n",
    "plt.ylabel('Value')\n",
    "plt.title('Box Plot: Dia and Sys')\n",
    "plt.show()"
   ]
  },
  {
   "cell_type": "markdown",
   "id": "2fc3df84",
   "metadata": {},
   "source": [
    "The box plot above was plotted to visualize the distribution of values for the sys and dia columns in order to carry out further cleaning"
   ]
  },
  {
   "cell_type": "code",
   "execution_count": 330,
   "id": "59cac849",
   "metadata": {},
   "outputs": [
    {
     "data": {
      "text/plain": [
       "array([110, 140, 130, 150, 100, 120, 145, 170, 135, 125,  90, 180, 160,\n",
       "       133, 190,  80, 122, 169, 126, 158, 200,  14, 123,  70, 161, 147,\n",
       "       115, 137, 153,  11, 148, 105, 220, 119, 141, 165, 164,  12, 124,\n",
       "       172, 902, 162, 906, 117, 134, 166, 210, 176, 116,  10, 121,  16,\n",
       "       112, 159, 113, 118, 155, 142, 131, 157, 136, 146, 138, -10, 909,\n",
       "       109,  85, 106, 129,  93,   7,  95, 179, 156, 168, 132, 104, 103,\n",
       "       178, 175, 128, 151,  15, 139, 127,  17, 108, 144, 102,   1,  13,\n",
       "       143, 701, 107, 184, 149, 167, 114, 101,  60, 181, 171, 202, -11,\n",
       "       111, 907,  20, 188, 185, 163, 173, 154, 177, -14, 174, -12, 240,\n",
       "       191, 197, 152,  96, 199, -15, 193,  99, 196, 309, 401, 806, 230,\n",
       "       207, 215,  97,  24, 960, 195, 187])"
      ]
     },
     "execution_count": 330,
     "metadata": {},
     "output_type": "execute_result"
    }
   ],
   "source": [
    "data['sys'].unique() #Getting a picture of the unique values in the systolic column"
   ]
  },
  {
   "cell_type": "code",
   "execution_count": 331,
   "id": "3b14be92",
   "metadata": {},
   "outputs": [
    {
     "data": {
      "text/plain": [
       "array([ 80,  90,  70, 100,  60,  85,  89, 110,  65,  63,  79, 800, 120,\n",
       "        50,  30, 109,  84, 103, 150,  91,  40,  73,  78,  75,  86,  87,\n",
       "        82,  95,  69,  74,  97,  81,  83, 119,   0,  93, 105,  99,  77,\n",
       "        59, 804, 140,  92, 104, 108, 125, 115,  68,  61, 106, 102,  94,\n",
       "        66,  52, 170,  76, 160,  62,  96, 130, 113,  67, 910,  10,  88,\n",
       "       902,   8, 112,  71,  72,  98, 208,  20, 802, 850, 708,  57, 101,\n",
       "       901,  64, 117, 710,  45, 709,  58, 111, 809, 126, 107,   7, 180,\n",
       "       121, 810, 570, 807,   6, 190, 114, 801,  53,   1, 118,  56, 182,\n",
       "         9, 980, 820,  55, 900, 122, 680, 135, 700,  15, -70,  54, 880,\n",
       "       870, 585,  49, 602])"
      ]
     },
     "execution_count": 331,
     "metadata": {},
     "output_type": "execute_result"
    }
   ],
   "source": [
    "data['dia'].unique() #Getting a picture of the unique values in the diastolic column"
   ]
  },
  {
   "cell_type": "markdown",
   "id": "751f66e7",
   "metadata": {},
   "source": [
    "The unique values show that we have negative values, single values and numbers that are also not clinically possible such as numbers above 400"
   ]
  },
  {
   "cell_type": "code",
   "execution_count": 332,
   "id": "3c32cb9c",
   "metadata": {},
   "outputs": [],
   "source": [
    "# Drop rows with negative or single-digit 'sys' or 'dia' values\n",
    "data = data[(data['sys'] > 9) & (data['dia'] > 9)]"
   ]
  },
  {
   "cell_type": "code",
   "execution_count": 333,
   "id": "040d79cc",
   "metadata": {},
   "outputs": [
    {
     "data": {
      "text/plain": [
       "array([110, 140, 130, 150, 100, 120, 145, 170, 135, 125,  90, 180, 160,\n",
       "       133, 190,  80, 122, 169, 126, 158, 200,  14, 123,  70, 161, 147,\n",
       "       115, 137, 153,  11, 148, 105, 220, 119, 141, 165, 164,  12, 124,\n",
       "       172, 902, 162, 117, 134, 166, 210, 176, 116,  10, 121,  16, 112,\n",
       "       159, 113, 118, 155, 142, 131, 157, 136, 146, 138, 909, 109,  85,\n",
       "       106, 129,  93,  95, 179, 156, 168, 132, 104, 103, 178, 175, 128,\n",
       "       151,  15, 139, 127,  17, 108, 144, 102,  13, 143, 701, 107, 184,\n",
       "       149, 167, 114, 101,  60, 181, 171, 202, 111, 907,  20, 188, 185,\n",
       "       163, 173, 154, 177, 174, 240, 191, 197, 152,  96, 199, 193,  99,\n",
       "       196, 401, 906, 230, 207, 215,  97,  24, 960, 195, 187])"
      ]
     },
     "execution_count": 333,
     "metadata": {},
     "output_type": "execute_result"
    }
   ],
   "source": [
    "data['sys'].unique()"
   ]
  },
  {
   "cell_type": "code",
   "execution_count": 334,
   "id": "f3d368df",
   "metadata": {},
   "outputs": [
    {
     "data": {
      "text/plain": [
       "array([ 80,  90,  70, 100,  60,  85,  89, 110,  65,  63,  79, 800, 120,\n",
       "        50,  30, 109,  84, 103, 150,  91,  40,  73,  78,  75,  86,  87,\n",
       "        82,  95,  69,  74,  97,  81,  83, 119,  93, 105,  99,  77,  59,\n",
       "       804, 140,  92, 104, 108, 125, 115,  68,  61, 106, 102,  94,  66,\n",
       "        52, 170,  76, 160,  62,  96, 130, 113,  67, 910,  10,  88, 902,\n",
       "       112,  71,  72,  98,  20, 802, 850, 708,  57, 101, 901,  64, 117,\n",
       "       710,  45, 709,  58, 111, 809, 126, 107, 180, 121, 810, 570, 807,\n",
       "       190, 114, 801,  53, 118,  56, 182, 980, 820,  55, 900, 122, 680,\n",
       "       135, 700,  15,  54, 880, 870, 585,  49, 602])"
      ]
     },
     "execution_count": 334,
     "metadata": {},
     "output_type": "execute_result"
    }
   ],
   "source": [
    "data['dia'].unique()"
   ]
  },
  {
   "cell_type": "code",
   "execution_count": 335,
   "id": "842c1d42",
   "metadata": {},
   "outputs": [
    {
     "data": {
      "image/png": "[encoded data removed]",
      "text/plain": [
       "<Figure size 800x600 with 1 Axes>"
      ]
     },
     "metadata": {},
     "output_type": "display_data"
    }
   ],
   "source": [
    "# Checking the distribution for outliers\n",
    "\n",
    "# Creating box plots for 'dia' and 'sys' columns\n",
    "plt.figure(figsize=(8, 6))\n",
    "plt.boxplot([data['dia'], data['sys']])\n",
    "plt.xticks([1, 2], ['Dia', 'Sys'])\n",
    "plt.ylabel('Value')\n",
    "plt.title('Box Plot: Dia and Sys')\n",
    "plt.show()"
   ]
  },
  {
   "cell_type": "code",
   "execution_count": 336,
   "id": "3a2395c2",
   "metadata": {},
   "outputs": [],
   "source": [
    "# Filtering the 'data' DataFrame based on conditions for 'sys' and 'dia' values\n",
    "data = data[(data['sys'] > 60) & (data['dia'] > 40)] "
   ]
  },
  {
   "cell_type": "markdown",
   "id": "fc7ea169",
   "metadata": {},
   "source": [
    "This sets a lower limit for both the sys and dia columns effectively taking out numbers that seem not clinically possible. Note: This is open to contest. Hahaha"
   ]
  },
  {
   "cell_type": "code",
   "execution_count": 337,
   "id": "50f15af3",
   "metadata": {},
   "outputs": [],
   "source": [
    "# Filtering the 'data' DataFrame based on conditions for 'sys' and 'dia' values\n",
    "data = data[(data['sys'] < 300) & (data['dia'] < 300)]"
   ]
  },
  {
   "cell_type": "markdown",
   "id": "a2bacd13",
   "metadata": {},
   "source": [
    "This sets an upper limit for the sys and dia columns also taking out seemingly clinically impossible values. "
   ]
  },
  {
   "cell_type": "code",
   "execution_count": 338,
   "id": "0d34eab3",
   "metadata": {},
   "outputs": [
    {
     "data": {
      "image/png": "[encoded data removed]",
      "text/plain": [
       "<Figure size 800x600 with 1 Axes>"
      ]
     },
     "metadata": {},
     "output_type": "display_data"
    }
   ],
   "source": [
    "# Checking the distribution for outliers\n",
    "\n",
    "# Creating box plots for 'dia' and 'sys' columns\n",
    "plt.figure(figsize=(8, 6))\n",
    "plt.boxplot([data['dia'], data['sys']])\n",
    "plt.xticks([1, 2], ['Dia', 'Sys'])\n",
    "plt.ylabel('Value')\n",
    "plt.title('Box Plot: Dia and Sys')\n",
    "plt.show()"
   ]
  },
  {
   "cell_type": "markdown",
   "id": "2c3e9942",
   "metadata": {},
   "source": [
    "At this point I fell confident working with these numbers "
   ]
  },
  {
   "cell_type": "code",
   "execution_count": 339,
   "id": "7e4d523d",
   "metadata": {},
   "outputs": [
    {
     "data": {
      "text/plain": [
       "(69682, 16)"
      ]
     },
     "execution_count": 339,
     "metadata": {},
     "output_type": "execute_result"
    }
   ],
   "source": [
    "data.shape #Getting an idea of the finally cleaned dataframe"
   ]
  },
  {
   "cell_type": "markdown",
   "id": "20ee3103",
   "metadata": {},
   "source": [
    "This shows that just under 400 rows were dropped from an original 70000 which seems negligible at this point\n"
   ]
  },
  {
   "cell_type": "code",
   "execution_count": 340,
   "id": "8c55df9d",
   "metadata": {},
   "outputs": [
    {
     "data": {
      "image/png": "[encoded data removed]",
      "text/plain": [
       "<Figure size 1000x600 with 1 Axes>"
      ]
     },
     "metadata": {},
     "output_type": "display_data"
    }
   ],
   "source": [
    "# Group the dataframe by 'age' and calculate the frequency of cardiovascular disease presence\n",
    "age_groups = data.groupby('age')['cardio'].sum()\n",
    "\n",
    "# Create the bar plot\n",
    "plt.figure(figsize=(10, 6)) # Create a new figure with a specific size\n",
    "age_groups.plot(kind='bar', color='steelblue') # Create a new figure with a specific size\n",
    "plt.xlabel('Age') # Set the x-axis label\n",
    "plt.ylabel('Frequency') # Set the y-axis label\n",
    "plt.title('Risk of Cardiovascular Disease by Age') # Set the plot title\n",
    "plt.xticks(rotation=0) # Rotate the x-axis tick labels to avoid overlapping\n",
    "plt.show() # Display the plot"
   ]
  },
  {
   "cell_type": "markdown",
   "id": "5241fd0f",
   "metadata": {},
   "source": [
    "The visualization shows a constant increase in the risk of a cardiovascular disease as the individual ages. "
   ]
  },
  {
   "cell_type": "code",
   "execution_count": 341,
   "id": "33b92c71",
   "metadata": {},
   "outputs": [
    {
     "data": {
      "image/png": "[encoded data removed]",
      "text/plain": [
       "<Figure size 1000x600 with 1 Axes>"
      ]
     },
     "metadata": {},
     "output_type": "display_data"
    }
   ],
   "source": [
    "# Group the dataframe by 'bmi_class' and calculate the frequency of cardiovascular disease presence\n",
    "bmi_groups = data.groupby('bmi_class')['cardio'].sum()\n",
    "\n",
    "# Create the bar plot\n",
    "plt.figure(figsize=(10, 6)) # Create a new figure with a specific size\n",
    "ax = bmi_groups.plot(kind='bar', color='steelblue') # Create a bar plot using the 'bmi_groups' data\n",
    "bmi_groups.plot(kind='bar', color='steelblue') # Set the x-axis label\n",
    "plt.xlabel('BMI Category') # Set the y-axis label\n",
    "plt.ylabel('Frequency') # Set the plot title\n",
    "plt.title('Risk of Cardiovascular Disease by BMI') # Rotate the x-axis tick labels to avoid overlapping\n",
    "plt.xticks(rotation=0) # Add count labels on top of each bar\n",
    "\n",
    "# Add count labels on top of each bar\n",
    "for i, v in enumerate(bmi_groups):\n",
    "    ax.text(i, v + 0.1, str(v), ha='center')\n",
    "    \n",
    "plt.show() # Display the plot"
   ]
  },
  {
   "cell_type": "markdown",
   "id": "6d391b59",
   "metadata": {},
   "source": [
    "Although the visualization displays lower numbers of individuals that are anorexic and underweight the analysis could be biased as the population collected in the dataset might have had more of the other classes as indicated below."
   ]
  },
  {
   "cell_type": "code",
   "execution_count": 346,
   "id": "45f64736",
   "metadata": {},
   "outputs": [
    {
     "data": {
      "text/plain": [
       "3    25438\n",
       "2    25078\n",
       "4    12256\n",
       "5     4388\n",
       "6     1896\n",
       "1      348\n",
       "0      278\n",
       "Name: bmi_class, dtype: int64"
      ]
     },
     "execution_count": 346,
     "metadata": {},
     "output_type": "execute_result"
    }
   ],
   "source": [
    "data['bmi_class'].value_counts()"
   ]
  },
  {
   "cell_type": "code",
   "execution_count": 357,
   "id": "1a1414b7",
   "metadata": {},
   "outputs": [
    {
     "data": {
      "image/png": "[encoded data removed]",
      "text/plain": [
       "<Figure size 1000x600 with 1 Axes>"
      ]
     },
     "metadata": {},
     "output_type": "display_data"
    }
   ],
   "source": [
    "from matplotlib.patches import Patch\n",
    "\n",
    "# Grouping the data by cholesterol category and calculating the sum of 'cardio' values\n",
    "cholesterol_groups = data.groupby('cholesterol')['cardio'].sum()\n",
    "\n",
    "# Create a new figure with a specific size\n",
    "plt.figure(figsize=(10, 6))\n",
    "\n",
    "# Define the bar colors for each cholesterol value\n",
    "colors = ['steelblue', 'green', 'red']\n",
    "\n",
    "# Create a bar plot using the 'cholesterol_groups' data and the specified colors\n",
    "ax = cholesterol_groups.plot(kind='bar', color=colors)\n",
    "\n",
    "# Set the x-axis label\n",
    "plt.xlabel('Cholesterol Category')\n",
    "\n",
    "# Set the y-axis label\n",
    "plt.ylabel('Frequency')\n",
    "\n",
    "# Set the plot title\n",
    "plt.title('Risk of Cardiovascular Disease by Cholesterol')\n",
    "\n",
    "# Rotate the x-axis tick labels to avoid overlapping\n",
    "plt.xticks(rotation=0)\n",
    "\n",
    "# Add count labels on top of each bar\n",
    "for i, v in enumerate(cholesterol_groups):\n",
    "    ax.text(i, v + 0.1, str(v), ha='center')\n",
    "\n",
    "# Define the legend labels and handles with the desired colors\n",
    "legend_labels = {1: 'Normal', 2: 'Above Normal', 3: 'Well Above Normal'}\n",
    "legend_handles = [Patch(facecolor=color, label=label) for color, label in zip(colors, legend_labels.values())]\n",
    "\n",
    "# Create the legend for the cholesterol categories\n",
    "plt.legend(handles=legend_handles, title='Cholesterol Category')\n",
    "\n",
    "# Display the plot\n",
    "plt.show()"
   ]
  },
  {
   "cell_type": "markdown",
   "id": "8855e837",
   "metadata": {},
   "source": [
    "The values indicate that there is a high number of individuals with a normal cholesterol but have a cardiovascular disease but it could also be a bias in data collection indicated by the below count which clearly shows that the dataset contains a largely higher number of individuals with a normal cholesterol value."
   ]
  },
  {
   "cell_type": "code",
   "execution_count": 358,
   "id": "1b43cdd3",
   "metadata": {},
   "outputs": [
    {
     "data": {
      "text/plain": [
       "1    52134\n",
       "2     9505\n",
       "3     8043\n",
       "Name: cholesterol, dtype: int64"
      ]
     },
     "execution_count": 358,
     "metadata": {},
     "output_type": "execute_result"
    }
   ],
   "source": [
    "data['cholesterol'].value_counts()"
   ]
  },
  {
   "cell_type": "code",
   "execution_count": 97,
   "id": "c96dc189",
   "metadata": {},
   "outputs": [
    {
     "data": {
      "text/plain": [
       "<Figure size 1000x600 with 0 Axes>"
      ]
     },
     "metadata": {},
     "output_type": "display_data"
    },
    {
     "data": {
      "image/png": "[encoded data removed]",
      "text/plain": [
       "<Figure size 640x480 with 1 Axes>"
      ]
     },
     "metadata": {},
     "output_type": "display_data"
    }
   ],
   "source": [
    "# Group the dataframe by 'bmi_class' and 'blood pressure' and calculate the frequency\n",
    "bmi_bp_groups = data.groupby(['bmi_class', 'blood pressure']).size().unstack()\n",
    "\n",
    "# Create the bar chart\n",
    "plt.figure(figsize=(10, 6))\n",
    "bmi_bp_groups.plot(kind='bar', stacked=False, color=['steelblue', 'lightsteelblue'])\n",
    "plt.xlabel('BMI Class')\n",
    "plt.ylabel('Frequency')\n",
    "plt.title('Risk of Blood Pressure by BMI Class')\n",
    "plt.xticks(rotation=0)\n",
    "plt.legend(title='Blood Pressure', loc='upper right')\n",
    "plt.show()"
   ]
  },
  {
   "cell_type": "code",
   "execution_count": 360,
   "id": "26367b3a",
   "metadata": {},
   "outputs": [
    {
     "data": {
      "text/plain": [
       "1    56011\n",
       "0    13671\n",
       "Name: active, dtype: int64"
      ]
     },
     "execution_count": 360,
     "metadata": {},
     "output_type": "execute_result"
    }
   ],
   "source": [
    "# counting the number of value types in the active column where 1 stands for active and 0 stands for inactive\n",
    "data['active'].value_counts() "
   ]
  },
  {
   "cell_type": "markdown",
   "id": "2eb40c93",
   "metadata": {},
   "source": [
    "The numbers above show that individuals that were asked if they were active or not mostly said they were and this data may not be reliable as it is subjective data."
   ]
  },
  {
   "cell_type": "code",
   "execution_count": 361,
   "id": "db4e81be",
   "metadata": {},
   "outputs": [
    {
     "data": {
      "image/png": "[encoded data removed]",
      "text/plain": [
       "<Figure size 800x600 with 1 Axes>"
      ]
     },
     "metadata": {},
     "output_type": "display_data"
    }
   ],
   "source": [
    "# Group the dataframe by 'active' and calculate the frequency of cardiovascular disease presence\n",
    "active_groups = data.groupby('active')['cardio'].sum()\n",
    "\n",
    "# Create the bar chart\n",
    "plt.figure(figsize=(8, 6)) # Create a new figure with a specific size\n",
    "active_groups.plot(kind='bar', color='steelblue') # Create a bar chart using the 'active_groups' data\n",
    "plt.xlabel('Active') # Set the x-axis label\n",
    "plt.ylabel('Frequency') # Set the y-axis label\n",
    "plt.title('Risk of Cardiovascular Disease based on Activity Level') # Set the plot title\n",
    "plt.xticks(rotation=0) # Rotate the x-axis tick labels to avoid overlapping\n",
    "plt.show() # Display the plot"
   ]
  },
  {
   "cell_type": "code",
   "execution_count": 362,
   "id": "061a35f4",
   "metadata": {},
   "outputs": [
    {
     "data": {
      "image/png": "[encoded data removed]",
      "text/plain": [
       "<Figure size 1000x800 with 2 Axes>"
      ]
     },
     "metadata": {},
     "output_type": "display_data"
    }
   ],
   "source": [
    "# Calculate the correlation matrix\n",
    "correlation_matrix = data.corr()\n",
    "\n",
    "# Create the heatmap\n",
    "plt.figure(figsize=(10, 8)) # Create a new figure with a specific size\n",
    "plt.imshow(correlation_matrix, cmap='coolwarm', vmin=-1, vmax=1) # Create the heatmap using the correlation matrix\n",
    "plt.xticks(range(len(correlation_matrix.columns)), correlation_matrix.columns, rotation=90) # Set the x-axis tick labels and rotation\n",
    "plt.yticks(range(len(correlation_matrix.columns)), correlation_matrix.columns) # Set the y-axis tick labels\n",
    "plt.colorbar(label='Correlation') # Add a colorbar and label\n",
    "plt.title('Correlation Matrix') # Set the plot title\n",
    "plt.show() # Display the plot"
   ]
  },
  {
   "cell_type": "markdown",
   "id": "929599c8",
   "metadata": {},
   "source": [
    "## Creation of Dataframe for Machine Learning "
   ]
  },
  {
   "cell_type": "code",
   "execution_count": 363,
   "id": "60985e4e",
   "metadata": {
    "scrolled": true
   },
   "outputs": [
    {
     "data": {
      "text/html": [
       "<div>\n",
       "<style scoped>\n",
       "    .dataframe tbody tr th:only-of-type {\n",
       "        vertical-align: middle;\n",
       "    }\n",
       "\n",
       "    .dataframe tbody tr th {\n",
       "        vertical-align: top;\n",
       "    }\n",
       "\n",
       "    .dataframe thead th {\n",
       "        text-align: right;\n",
       "    }\n",
       "</style>\n",
       "<table border=\"1\" class=\"dataframe\">\n",
       "  <thead>\n",
       "    <tr style=\"text-align: right;\">\n",
       "      <th></th>\n",
       "      <th>age</th>\n",
       "      <th>gender</th>\n",
       "      <th>height</th>\n",
       "      <th>weight</th>\n",
       "      <th>sys</th>\n",
       "      <th>dia</th>\n",
       "      <th>cholesterol</th>\n",
       "      <th>gluc</th>\n",
       "      <th>smoke</th>\n",
       "      <th>alco</th>\n",
       "      <th>active</th>\n",
       "      <th>cardio</th>\n",
       "      <th>bmi</th>\n",
       "      <th>bmi_class</th>\n",
       "      <th>blood pressure</th>\n",
       "    </tr>\n",
       "  </thead>\n",
       "  <tbody>\n",
       "    <tr>\n",
       "      <th>0</th>\n",
       "      <td>50</td>\n",
       "      <td>male</td>\n",
       "      <td>1.68</td>\n",
       "      <td>62.0</td>\n",
       "      <td>110</td>\n",
       "      <td>80</td>\n",
       "      <td>1</td>\n",
       "      <td>1</td>\n",
       "      <td>0</td>\n",
       "      <td>0</td>\n",
       "      <td>1</td>\n",
       "      <td>0</td>\n",
       "      <td>22.0</td>\n",
       "      <td>2</td>\n",
       "      <td>0</td>\n",
       "    </tr>\n",
       "    <tr>\n",
       "      <th>1</th>\n",
       "      <td>55</td>\n",
       "      <td>female</td>\n",
       "      <td>1.56</td>\n",
       "      <td>85.0</td>\n",
       "      <td>140</td>\n",
       "      <td>90</td>\n",
       "      <td>3</td>\n",
       "      <td>1</td>\n",
       "      <td>0</td>\n",
       "      <td>0</td>\n",
       "      <td>1</td>\n",
       "      <td>1</td>\n",
       "      <td>34.9</td>\n",
       "      <td>4</td>\n",
       "      <td>0</td>\n",
       "    </tr>\n",
       "    <tr>\n",
       "      <th>2</th>\n",
       "      <td>52</td>\n",
       "      <td>female</td>\n",
       "      <td>1.65</td>\n",
       "      <td>64.0</td>\n",
       "      <td>130</td>\n",
       "      <td>70</td>\n",
       "      <td>3</td>\n",
       "      <td>1</td>\n",
       "      <td>0</td>\n",
       "      <td>0</td>\n",
       "      <td>0</td>\n",
       "      <td>1</td>\n",
       "      <td>23.5</td>\n",
       "      <td>2</td>\n",
       "      <td>0</td>\n",
       "    </tr>\n",
       "    <tr>\n",
       "      <th>3</th>\n",
       "      <td>48</td>\n",
       "      <td>male</td>\n",
       "      <td>1.69</td>\n",
       "      <td>82.0</td>\n",
       "      <td>150</td>\n",
       "      <td>100</td>\n",
       "      <td>1</td>\n",
       "      <td>1</td>\n",
       "      <td>0</td>\n",
       "      <td>0</td>\n",
       "      <td>1</td>\n",
       "      <td>1</td>\n",
       "      <td>28.7</td>\n",
       "      <td>3</td>\n",
       "      <td>1</td>\n",
       "    </tr>\n",
       "    <tr>\n",
       "      <th>4</th>\n",
       "      <td>48</td>\n",
       "      <td>female</td>\n",
       "      <td>1.56</td>\n",
       "      <td>56.0</td>\n",
       "      <td>100</td>\n",
       "      <td>60</td>\n",
       "      <td>1</td>\n",
       "      <td>1</td>\n",
       "      <td>0</td>\n",
       "      <td>0</td>\n",
       "      <td>0</td>\n",
       "      <td>0</td>\n",
       "      <td>23.0</td>\n",
       "      <td>2</td>\n",
       "      <td>0</td>\n",
       "    </tr>\n",
       "  </tbody>\n",
       "</table>\n",
       "</div>"
      ],
      "text/plain": [
       "   age  gender  height  weight  sys  dia  cholesterol  gluc  smoke  alco  \\\n",
       "0   50    male    1.68    62.0  110   80            1     1      0     0   \n",
       "1   55  female    1.56    85.0  140   90            3     1      0     0   \n",
       "2   52  female    1.65    64.0  130   70            3     1      0     0   \n",
       "3   48    male    1.69    82.0  150  100            1     1      0     0   \n",
       "4   48  female    1.56    56.0  100   60            1     1      0     0   \n",
       "\n",
       "   active  cardio   bmi  bmi_class  blood pressure  \n",
       "0       1       0  22.0          2               0  \n",
       "1       1       1  34.9          4               0  \n",
       "2       0       1  23.5          2               0  \n",
       "3       1       1  28.7          3               1  \n",
       "4       0       0  23.0          2               0  "
      ]
     },
     "execution_count": 363,
     "metadata": {},
     "output_type": "execute_result"
    }
   ],
   "source": [
    "# Drop the 'index' and 'id' columns\n",
    "data_learning = data.drop([ 'id'], axis=1)\n",
    "\n",
    "# Print the modified DataFrame\n",
    "data_learning.head()"
   ]
  },
  {
   "cell_type": "markdown",
   "id": "6f983665",
   "metadata": {},
   "source": [
    "The id column is dropped as it is insignificant to the target and only stands for patient id"
   ]
  },
  {
   "cell_type": "code",
   "execution_count": 364,
   "id": "1359628f",
   "metadata": {},
   "outputs": [
    {
     "data": {
      "text/html": [
       "<div>\n",
       "<style scoped>\n",
       "    .dataframe tbody tr th:only-of-type {\n",
       "        vertical-align: middle;\n",
       "    }\n",
       "\n",
       "    .dataframe tbody tr th {\n",
       "        vertical-align: top;\n",
       "    }\n",
       "\n",
       "    .dataframe thead th {\n",
       "        text-align: right;\n",
       "    }\n",
       "</style>\n",
       "<table border=\"1\" class=\"dataframe\">\n",
       "  <thead>\n",
       "    <tr style=\"text-align: right;\">\n",
       "      <th></th>\n",
       "      <th>age</th>\n",
       "      <th>gender</th>\n",
       "      <th>height</th>\n",
       "      <th>weight</th>\n",
       "      <th>sys</th>\n",
       "      <th>dia</th>\n",
       "      <th>cholesterol</th>\n",
       "      <th>gluc</th>\n",
       "      <th>smoke</th>\n",
       "      <th>alco</th>\n",
       "      <th>active</th>\n",
       "      <th>cardio</th>\n",
       "      <th>bmi</th>\n",
       "      <th>bmi_class</th>\n",
       "      <th>blood pressure</th>\n",
       "    </tr>\n",
       "  </thead>\n",
       "  <tbody>\n",
       "    <tr>\n",
       "      <th>0</th>\n",
       "      <td>50</td>\n",
       "      <td>2</td>\n",
       "      <td>1.68</td>\n",
       "      <td>62.0</td>\n",
       "      <td>110</td>\n",
       "      <td>80</td>\n",
       "      <td>1</td>\n",
       "      <td>1</td>\n",
       "      <td>0</td>\n",
       "      <td>0</td>\n",
       "      <td>1</td>\n",
       "      <td>0</td>\n",
       "      <td>22.0</td>\n",
       "      <td>2</td>\n",
       "      <td>0</td>\n",
       "    </tr>\n",
       "    <tr>\n",
       "      <th>1</th>\n",
       "      <td>55</td>\n",
       "      <td>1</td>\n",
       "      <td>1.56</td>\n",
       "      <td>85.0</td>\n",
       "      <td>140</td>\n",
       "      <td>90</td>\n",
       "      <td>3</td>\n",
       "      <td>1</td>\n",
       "      <td>0</td>\n",
       "      <td>0</td>\n",
       "      <td>1</td>\n",
       "      <td>1</td>\n",
       "      <td>34.9</td>\n",
       "      <td>4</td>\n",
       "      <td>0</td>\n",
       "    </tr>\n",
       "    <tr>\n",
       "      <th>2</th>\n",
       "      <td>52</td>\n",
       "      <td>1</td>\n",
       "      <td>1.65</td>\n",
       "      <td>64.0</td>\n",
       "      <td>130</td>\n",
       "      <td>70</td>\n",
       "      <td>3</td>\n",
       "      <td>1</td>\n",
       "      <td>0</td>\n",
       "      <td>0</td>\n",
       "      <td>0</td>\n",
       "      <td>1</td>\n",
       "      <td>23.5</td>\n",
       "      <td>2</td>\n",
       "      <td>0</td>\n",
       "    </tr>\n",
       "    <tr>\n",
       "      <th>3</th>\n",
       "      <td>48</td>\n",
       "      <td>2</td>\n",
       "      <td>1.69</td>\n",
       "      <td>82.0</td>\n",
       "      <td>150</td>\n",
       "      <td>100</td>\n",
       "      <td>1</td>\n",
       "      <td>1</td>\n",
       "      <td>0</td>\n",
       "      <td>0</td>\n",
       "      <td>1</td>\n",
       "      <td>1</td>\n",
       "      <td>28.7</td>\n",
       "      <td>3</td>\n",
       "      <td>1</td>\n",
       "    </tr>\n",
       "    <tr>\n",
       "      <th>4</th>\n",
       "      <td>48</td>\n",
       "      <td>1</td>\n",
       "      <td>1.56</td>\n",
       "      <td>56.0</td>\n",
       "      <td>100</td>\n",
       "      <td>60</td>\n",
       "      <td>1</td>\n",
       "      <td>1</td>\n",
       "      <td>0</td>\n",
       "      <td>0</td>\n",
       "      <td>0</td>\n",
       "      <td>0</td>\n",
       "      <td>23.0</td>\n",
       "      <td>2</td>\n",
       "      <td>0</td>\n",
       "    </tr>\n",
       "  </tbody>\n",
       "</table>\n",
       "</div>"
      ],
      "text/plain": [
       "   age  gender  height  weight  sys  dia  cholesterol  gluc  smoke  alco  \\\n",
       "0   50       2    1.68    62.0  110   80            1     1      0     0   \n",
       "1   55       1    1.56    85.0  140   90            3     1      0     0   \n",
       "2   52       1    1.65    64.0  130   70            3     1      0     0   \n",
       "3   48       2    1.69    82.0  150  100            1     1      0     0   \n",
       "4   48       1    1.56    56.0  100   60            1     1      0     0   \n",
       "\n",
       "   active  cardio   bmi  bmi_class  blood pressure  \n",
       "0       1       0  22.0          2               0  \n",
       "1       1       1  34.9          4               0  \n",
       "2       0       1  23.5          2               0  \n",
       "3       1       1  28.7          3               1  \n",
       "4       0       0  23.0          2               0  "
      ]
     },
     "execution_count": 364,
     "metadata": {},
     "output_type": "execute_result"
    }
   ],
   "source": [
    "# Map 'gender' column values to integers\n",
    "gender_mapping = {'male': 2, 'female': 1}\n",
    "data_learning['gender'] = data_learning['gender'].map(gender_mapping)\n",
    "\n",
    "# Print the modified DataFrame\n",
    "data_learning.head()"
   ]
  },
  {
   "cell_type": "markdown",
   "id": "2534d7cd",
   "metadata": {},
   "source": [
    "The gender column values are mapped back to their original format for the machine to better understand and implement as a variable"
   ]
  },
  {
   "cell_type": "code",
   "execution_count": 365,
   "id": "31e40be1",
   "metadata": {},
   "outputs": [],
   "source": [
    "X = data_learning.drop(columns='cardio', axis=1)  # Create X by dropping the 'cardio' column from 'data_learning'\n",
    "Y = data_learning['cardio']  # Assign the 'cardio' column as the target variable Y"
   ]
  },
  {
   "cell_type": "markdown",
   "id": "462d1b2a",
   "metadata": {},
   "source": [
    "## Data Standardization"
   ]
  },
  {
   "cell_type": "code",
   "execution_count": 366,
   "id": "f44208dd",
   "metadata": {},
   "outputs": [],
   "source": [
    "scaler = StandardScaler()  # Create an instance of the StandardScaler class\n",
    "scaler.fit(X)  # Fit the scaler to the data in X, calculating the mean and standard deviation for each feature\n",
    "standardized_data = scaler.transform(X)  # Standardize the features in X using the fitted scaler\n",
    "X = standardized_data  # Assign the standardized features to the variable X"
   ]
  },
  {
   "cell_type": "markdown",
   "id": "1a3f3d18",
   "metadata": {},
   "source": [
    "The StandardScaler is a preprocessing technique that standardizes features by subtracting the mean and scaling to unit variance. It is commonly used to normalize the input data before training a machine learning model."
   ]
  },
  {
   "cell_type": "markdown",
   "id": "3b022ec3",
   "metadata": {},
   "source": [
    "## Splitting into Train and Test Data"
   ]
  },
  {
   "cell_type": "code",
   "execution_count": 367,
   "id": "5629e5d4",
   "metadata": {},
   "outputs": [],
   "source": [
    "X_train, X_test, Y_train, Y_test = train_test_split(X,Y, test_size = 0.2, stratify=Y, random_state=2)"
   ]
  },
  {
   "cell_type": "markdown",
   "id": "5c029d37",
   "metadata": {},
   "source": [
    "The train_test_split function is used to split the data into training and testing sets. It takes the input features 'X' and the target variable 'Y' as its first two arguments.\n",
    "\n",
    "The 'test_size' parameter is set to 0.2, which means that 20% of the data will be allocated for testing, while the remaining 80% will be used for training.\n",
    "\n",
    "The 'stratify' parameter is set to 'Y', which ensures that the class distribution in the original data is preserved in the training and testing sets. This is important when dealing with imbalanced datasets, where the target variable has unequal proportions of different classes.\n",
    "\n",
    "The 'random_state' parameter is set to 2, which ensures reproducibility of the random sampling. Using the same random state value will yield the same split of data each time the code is executed.\n",
    "\n",
    "The function returns four sets of data: 'X_train' (training set input features), 'X_test' (testing set input features), 'Y_train' (training set target variable), and 'Y_test' (testing set target variable). These sets can be used for training and evaluating machine learning models, ensuring that the data is split consistently between different runs."
   ]
  },
  {
   "cell_type": "code",
   "execution_count": 369,
   "id": "89afa3ed",
   "metadata": {},
   "outputs": [
    {
     "name": "stdout",
     "output_type": "stream",
     "text": [
      "(69682, 14) (55745, 14) (13937, 14)\n"
     ]
    }
   ],
   "source": [
    "print(X.shape, X_train.shape, X_test.shape)# Getting a picture of the split data by looking at the munber of rows and columns"
   ]
  },
  {
   "cell_type": "code",
   "execution_count": 370,
   "id": "86ab2519",
   "metadata": {},
   "outputs": [],
   "source": [
    "model_dict = {} # This dictionary saves the accuracies of each model created for further evaluation"
   ]
  },
  {
   "cell_type": "markdown",
   "id": "d4779ef0",
   "metadata": {},
   "source": [
    "## Training the Model"
   ]
  },
  {
   "cell_type": "code",
   "execution_count": 371,
   "id": "422f79be",
   "metadata": {},
   "outputs": [
    {
     "data": {
      "text/plain": [
       "SVC(kernel='linear')"
      ]
     },
     "execution_count": 371,
     "metadata": {},
     "output_type": "execute_result"
    }
   ],
   "source": [
    "classifier = svm.SVC(kernel='linear')  # Create an SVM classifier with a linear kernel\n",
    "classifier.fit(X_train, Y_train)  # Fit the classifier to the training data"
   ]
  },
  {
   "cell_type": "markdown",
   "id": "1929eabb",
   "metadata": {},
   "source": [
    "This trains the SVM model on the provided training data, allowing it to learn the patterns and relationships between the features and the corresponding class labels.\n",
    "\n",
    "After executing this code, the SVM classifier is trained and ready to make predictions on new, unseen data."
   ]
  },
  {
   "cell_type": "markdown",
   "id": "e6c33aad",
   "metadata": {},
   "source": [
    "##  SVM Model Evaluation"
   ]
  },
  {
   "cell_type": "code",
   "execution_count": 372,
   "id": "bfacf657",
   "metadata": {},
   "outputs": [
    {
     "data": {
      "text/plain": [
       "0.7282985021078123"
      ]
     },
     "execution_count": 372,
     "metadata": {},
     "output_type": "execute_result"
    }
   ],
   "source": [
    "# Accuracy score on train data\n",
    "X_train_prediction = classifier.predict(X_train)  # Predict the labels for the training data\n",
    "training_data_accuracy = accuracy_score(X_train_prediction, Y_train)  # Calculate the accuracy of the predictions\n",
    "training_data_accuracy  # Print the accuracy of the predictions"
   ]
  },
  {
   "cell_type": "code",
   "execution_count": 373,
   "id": "77704120",
   "metadata": {},
   "outputs": [
    {
     "data": {
      "text/plain": [
       "0.7231111430006457"
      ]
     },
     "execution_count": 373,
     "metadata": {},
     "output_type": "execute_result"
    }
   ],
   "source": [
    "#Accuracy score on test data\n",
    "X_test_prediction = classifier.predict(X_test) # Predict the labels for the test data\n",
    "test_data_accuracy = accuracy_score(X_test_prediction, Y_test) # Calculate the accuracy of the predictions\n",
    "accuracy_svm = test_data_accuracy  # Print the accuracy of the predictions\n",
    "model_dict['SVM'] = accuracy_svm # Adds the SVM Model's accuarcy to the dictionary\n",
    "accuracy_svm"
   ]
  },
  {
   "cell_type": "code",
   "execution_count": 374,
   "id": "7f8f15a7",
   "metadata": {},
   "outputs": [
    {
     "data": {
      "text/plain": [
       "0.6475000897311655"
      ]
     },
     "execution_count": 374,
     "metadata": {},
     "output_type": "execute_result"
    }
   ],
   "source": [
    "# Precision Score on train data\n",
    "training_data_precision = precision_score(X_train_prediction, Y_train)\n",
    "training_data_precision"
   ]
  },
  {
   "cell_type": "code",
   "execution_count": 375,
   "id": "000d38f1",
   "metadata": {},
   "outputs": [
    {
     "data": {
      "text/plain": [
       "0.6384781048097631"
      ]
     },
     "execution_count": 375,
     "metadata": {},
     "output_type": "execute_result"
    }
   ],
   "source": [
    "# Precision Score on test data\n",
    "test_data_precision = precision_score(X_test_prediction, Y_test)\n",
    "test_data_precision"
   ]
  },
  {
   "cell_type": "code",
   "execution_count": 376,
   "id": "7820ee59",
   "metadata": {},
   "outputs": [
    {
     "data": {
      "text/plain": [
       "0.70432983250693"
      ]
     },
     "execution_count": 376,
     "metadata": {},
     "output_type": "execute_result"
    }
   ],
   "source": [
    "# f1 score on train data\n",
    "training_data_f1 = f1_score(X_train_prediction, Y_train)\n",
    "training_data_f1"
   ]
  },
  {
   "cell_type": "code",
   "execution_count": 377,
   "id": "3e20a071",
   "metadata": {},
   "outputs": [
    {
     "data": {
      "text/plain": [
       "0.6974045322669176"
      ]
     },
     "execution_count": 377,
     "metadata": {},
     "output_type": "execute_result"
    }
   ],
   "source": [
    "# f1 score on test data\n",
    "test_data_f1 = f1_score(X_test_prediction, Y_test)\n",
    "test_data_f1"
   ]
  },
  {
   "cell_type": "code",
   "execution_count": 378,
   "id": "38edc876",
   "metadata": {},
   "outputs": [
    {
     "data": {
      "text/plain": [
       "0.772095013909694"
      ]
     },
     "execution_count": 378,
     "metadata": {},
     "output_type": "execute_result"
    }
   ],
   "source": [
    "# recall score on train data\n",
    "training_data_recall = recall_score(X_train_prediction, Y_train)\n",
    "training_data_recall"
   ]
  },
  {
   "cell_type": "code",
   "execution_count": 379,
   "id": "218b8d2b",
   "metadata": {},
   "outputs": [
    {
     "data": {
      "text/plain": [
       "0.7683137525915688"
      ]
     },
     "execution_count": 379,
     "metadata": {},
     "output_type": "execute_result"
    }
   ],
   "source": [
    "# recall score on test data\n",
    "test_data_recall = recall_score(X_test_prediction, Y_test)\n",
    "test_data_recall"
   ]
  },
  {
   "cell_type": "markdown",
   "id": "1aaf8a1b",
   "metadata": {},
   "source": [
    "## Random Forest Classifier Model"
   ]
  },
  {
   "cell_type": "code",
   "execution_count": 380,
   "id": "27f1baf3",
   "metadata": {},
   "outputs": [],
   "source": [
    "X = data_learning.drop(columns='cardio', axis=1)  # Create X by dropping the 'cardio' column from 'data_learning'\n",
    "Y = data_learning['cardio']  # Assign the 'cardio' column as the target variable Y"
   ]
  },
  {
   "cell_type": "code",
   "execution_count": 381,
   "id": "17e4bb26",
   "metadata": {},
   "outputs": [],
   "source": [
    "scaler = StandardScaler()  # Create an instance of the StandardScaler class\n",
    "scaler.fit(X)  # Fit the scaler to the data in X, calculating the mean and standard deviation for each feature\n",
    "standardized_data = scaler.transform(X)  # Standardize the features in X using the fitted scaler\n",
    "X = standardized_data  # Assign the standardized features to the variable X"
   ]
  },
  {
   "cell_type": "code",
   "execution_count": 382,
   "id": "9a7ad587",
   "metadata": {},
   "outputs": [],
   "source": [
    "X_val, X_test, Y_val, Y_test = train_test_split(X_test, Y_test, test_size=0.5)"
   ]
  },
  {
   "cell_type": "code",
   "execution_count": 383,
   "id": "1b633fff",
   "metadata": {},
   "outputs": [
    {
     "data": {
      "text/plain": [
       "((6968, 14), (6969, 14), (6968,), (6969,))"
      ]
     },
     "execution_count": 383,
     "metadata": {},
     "output_type": "execute_result"
    }
   ],
   "source": [
    "X_val.shape, X_test.shape, Y_val.shape,Y_test.shape"
   ]
  },
  {
   "cell_type": "code",
   "execution_count": 384,
   "id": "4a0bfae3",
   "metadata": {},
   "outputs": [
    {
     "data": {
      "text/plain": [
       "(0.7332137411427034, 0.730195177956372)"
      ]
     },
     "execution_count": 384,
     "metadata": {},
     "output_type": "execute_result"
    }
   ],
   "source": [
    "# Create a Random Forest classifier with specified parameters and fit it to the training data\n",
    "rf = RandomForestClassifier(n_estimators=12, max_depth=6).fit(X_train, Y_train)\n",
    "# Make predictions on the training and validation sets\n",
    "rf_train_preds = rf.predict(X_train)\n",
    "rf_val_preds = rf.predict(X_val)\n",
    "#Print out their accuracies\n",
    "accuracy_score(rf_train_preds, Y_train), accuracy_score(rf_val_preds, Y_val)"
   ]
  },
  {
   "cell_type": "code",
   "execution_count": 385,
   "id": "c7c7735a",
   "metadata": {},
   "outputs": [
    {
     "name": "stdout",
     "output_type": "stream",
     "text": [
      "              precision    recall  f1-score   support\n",
      "\n",
      "           0       0.80      0.71      0.75      4000\n",
      "           1       0.66      0.76      0.71      2968\n",
      "\n",
      "    accuracy                           0.73      6968\n",
      "   macro avg       0.73      0.73      0.73      6968\n",
      "weighted avg       0.74      0.73      0.73      6968\n",
      "\n"
     ]
    }
   ],
   "source": [
    "from sklearn.metrics import classification_report\n",
    "# Generate and prints the classification report\n",
    "print(classification_report(rf_val_preds, Y_val))"
   ]
  },
  {
   "cell_type": "code",
   "execution_count": 386,
   "id": "c9c6add7",
   "metadata": {},
   "outputs": [
    {
     "data": {
      "text/plain": [
       "0.7272205481417707"
      ]
     },
     "execution_count": 386,
     "metadata": {},
     "output_type": "execute_result"
    }
   ],
   "source": [
    "# Make predictions on the test set\n",
    "rf_test_preds = rf.predict(X_test)\n",
    "# Calculate the accuracy score for the test set\n",
    "accuracy_rfc = accuracy_score(rf_test_preds, Y_test)\n",
    "# Store the accuracy score in the model dictionary\n",
    "model_dict['RFC'] = accuracy_rfc\n",
    "# Print the accuracy score\n",
    "accuracy_rfc"
   ]
  },
  {
   "cell_type": "code",
   "execution_count": 387,
   "id": "f033a6be",
   "metadata": {},
   "outputs": [
    {
     "name": "stdout",
     "output_type": "stream",
     "text": [
      "Cross-Validation Scores: [0.71026763 0.71256368 0.71290184 0.70995982 0.70637199]\n",
      "Mean Accuracy: 0.7104129903657815\n"
     ]
    }
   ],
   "source": [
    "# Create a Random Forest classifier\n",
    "rf_classifier = RandomForestClassifier(random_state=42)\n",
    "\n",
    "# Perform cross-validation\n",
    "cv_scores = cross_val_score(rf_classifier, X, Y, cv=5)  \n",
    "\n",
    "# Print the cross-validation scores\n",
    "print(\"Cross-Validation Scores:\", cv_scores)\n",
    "print(\"Mean Accuracy:\", cv_scores.mean())"
   ]
  },
  {
   "cell_type": "markdown",
   "id": "1cbdd102",
   "metadata": {},
   "source": [
    "## KNN Classifier Model"
   ]
  },
  {
   "cell_type": "code",
   "execution_count": 388,
   "id": "7e8bbe53",
   "metadata": {},
   "outputs": [],
   "source": [
    "X = data_learning.drop(columns='cardio', axis=1)  # Create X by dropping the 'cardio' column from 'data_learning'\n",
    "Y = data_learning['cardio']  # Assign the 'cardio' column as the target variable Y"
   ]
  },
  {
   "cell_type": "code",
   "execution_count": 389,
   "id": "e4a0d5c1",
   "metadata": {},
   "outputs": [],
   "source": [
    "scaler = StandardScaler()  # Create an instance of the StandardScaler class\n",
    "scaler.fit(X)  # Fit the scaler to the data in X, calculating the mean and standard deviation for each feature\n",
    "standardized_data = scaler.transform(X)  # Standardize the features in X using the fitted scaler\n",
    "X = standardized_data  # Assign the standardized features to the variable X"
   ]
  },
  {
   "cell_type": "code",
   "execution_count": 390,
   "id": "f4351afb",
   "metadata": {},
   "outputs": [],
   "source": [
    "X_train, X_test, Y_train, Y_test = train_test_split(X,Y, test_size = 0.2, stratify=Y, random_state=2)"
   ]
  },
  {
   "cell_type": "code",
   "execution_count": 391,
   "id": "6a47cf9d",
   "metadata": {},
   "outputs": [
    {
     "name": "stdout",
     "output_type": "stream",
     "text": [
      "Accuracy: 0.6920427638659683\n"
     ]
    },
    {
     "name": "stderr",
     "output_type": "stream",
     "text": [
      "/Users/francischukwudi/opt/anaconda3/lib/python3.9/site-packages/sklearn/neighbors/_classification.py:228: FutureWarning: Unlike other reduction functions (e.g. `skew`, `kurtosis`), the default behavior of `mode` typically preserves the axis it acts along. In SciPy 1.11.0, this behavior will change: the default value of `keepdims` will become False, the `axis` over which the statistic is taken will be eliminated, and the value None will no longer be accepted. Set `keepdims` to True or False to avoid this warning.\n",
      "  mode, _ = stats.mode(_y[neigh_ind, k], axis=1)\n"
     ]
    }
   ],
   "source": [
    "# Create a KNN classifier and fit it on the training set\n",
    "knn_classifier = KNeighborsClassifier()\n",
    "knn_classifier.fit(X_train, Y_train)\n",
    "\n",
    "# Predict the target variable on the test set\n",
    "Y_pred = knn_classifier.predict(X_test)\n",
    "\n",
    "# Evaluate the model's accuracy\n",
    "accuracy_knn = accuracy_score(Y_test, Y_pred)\n",
    "model_dict['KNN'] = accuracy_knn\n",
    "print(\"Accuracy:\", accuracy_knn)"
   ]
  },
  {
   "cell_type": "markdown",
   "id": "3cd15a42",
   "metadata": {},
   "source": [
    "## Logistic Regression Model"
   ]
  },
  {
   "cell_type": "code",
   "execution_count": 392,
   "id": "1e8bd15a",
   "metadata": {},
   "outputs": [],
   "source": [
    "X = data_learning.drop(columns='cardio', axis=1)  # Create X by dropping the 'cardio' column from 'data_learning'\n",
    "Y = data_learning['cardio']  # Assign the 'cardio' column as the target variable Y"
   ]
  },
  {
   "cell_type": "code",
   "execution_count": 393,
   "id": "38bb8ca9",
   "metadata": {},
   "outputs": [],
   "source": [
    "scaler = StandardScaler()  # Create an instance of the StandardScaler class\n",
    "scaler.fit(X)  # Fit the scaler to the data in X, calculating the mean and standard deviation for each feature\n",
    "standardized_data = scaler.transform(X)  # Standardize the features in X using the fitted scaler\n",
    "X = standardized_data  # Assign the standardized features to the variable X"
   ]
  },
  {
   "cell_type": "code",
   "execution_count": 394,
   "id": "1124c8d8",
   "metadata": {},
   "outputs": [],
   "source": [
    "X_train, X_test, Y_train, Y_test = train_test_split(X,Y, test_size = 0.2, stratify=Y, random_state=2)"
   ]
  },
  {
   "cell_type": "code",
   "execution_count": 395,
   "id": "18811439",
   "metadata": {},
   "outputs": [
    {
     "name": "stdout",
     "output_type": "stream",
     "text": [
      "Accuracy: 0.7254071894955872\n"
     ]
    }
   ],
   "source": [
    "# Create a logistic regression classifier and fit it on the training set\n",
    "logreg_classifier = LogisticRegression(random_state=42)\n",
    "logreg_classifier.fit(X_train, Y_train)\n",
    "\n",
    "# Predict the target variable on the test set\n",
    "Y_pred = logreg_classifier.predict(X_test)\n",
    "\n",
    "# Evaluate the model's accuracy\n",
    "accuracy_logreg = accuracy_score(Y_test, Y_pred)\n",
    "model_dict['Logreg'] = accuracy_logreg\n",
    "print(\"Accuracy:\", accuracy_logreg)"
   ]
  },
  {
   "cell_type": "markdown",
   "id": "73709274",
   "metadata": {},
   "source": [
    "## Gradient Boosting Classifier Model"
   ]
  },
  {
   "cell_type": "code",
   "execution_count": 396,
   "id": "668c15f1",
   "metadata": {},
   "outputs": [],
   "source": [
    "X = data_learning.drop(columns='cardio', axis=1)  # Create X by dropping the 'cardio' column from 'data_learning'\n",
    "Y = data_learning['cardio']  # Assign the 'cardio' column as the target variable Y"
   ]
  },
  {
   "cell_type": "code",
   "execution_count": 397,
   "id": "45de5785",
   "metadata": {},
   "outputs": [],
   "source": [
    "scaler = StandardScaler()  # Create an instance of the StandardScaler class\n",
    "scaler.fit(X)  # Fit the scaler to the data in X, calculating the mean and standard deviation for each feature\n",
    "standardized_data = scaler.transform(X)  # Standardize the features in X using the fitted scaler\n",
    "X = standardized_data  # Assign the standardized features to the variable X"
   ]
  },
  {
   "cell_type": "code",
   "execution_count": 398,
   "id": "ae0f184e",
   "metadata": {},
   "outputs": [],
   "source": [
    "X_train, X_test, Y_train, Y_test = train_test_split(X,Y, test_size = 0.2, stratify=Y, random_state=2)"
   ]
  },
  {
   "cell_type": "code",
   "execution_count": 399,
   "id": "4432da64",
   "metadata": {},
   "outputs": [
    {
     "name": "stdout",
     "output_type": "stream",
     "text": [
      "Accuracy: 0.731290808638875\n"
     ]
    }
   ],
   "source": [
    "# Create a Gradient Boosting classifier and fit it on the training set\n",
    "gb_classifier = GradientBoostingClassifier(random_state=42)\n",
    "gb_classifier.fit(X_train, Y_train)\n",
    "\n",
    "# Predict the target variable on the test set\n",
    "Y_pred = gb_classifier.predict(X_test)\n",
    "\n",
    "# Evaluate the model's accuracy\n",
    "accuracy_gbc = accuracy_score(Y_test, Y_pred)\n",
    "model_dict['GBC'] = accuracy_gbc\n",
    "print(\"Accuracy:\", accuracy_gbc)"
   ]
  },
  {
   "cell_type": "markdown",
   "id": "74425939",
   "metadata": {},
   "source": [
    "## Comparing Accuracies of the Models"
   ]
  },
  {
   "cell_type": "code",
   "execution_count": 400,
   "id": "3a8a5ad6",
   "metadata": {},
   "outputs": [
    {
     "data": {
      "text/plain": [
       "{'SVM': 0.7231111430006457,\n",
       " 'RFC': 0.7272205481417707,\n",
       " 'KNN': 0.6920427638659683,\n",
       " 'Logreg': 0.7254071894955872,\n",
       " 'GBC': 0.731290808638875}"
      ]
     },
     "execution_count": 400,
     "metadata": {},
     "output_type": "execute_result"
    }
   ],
   "source": [
    "model_dict #Printing the values in the dictionary"
   ]
  },
  {
   "cell_type": "code",
   "execution_count": 401,
   "id": "68706f3a",
   "metadata": {},
   "outputs": [],
   "source": [
    "# Create a new DataFrame to store model accuracies\n",
    "model_accuracies_df = pd.DataFrame(columns=['Model', 'Accuracy'])\n",
    "# Set the 'Model' column to the keys of the model_dict dictionary\n",
    "model_accuracies_df['Model'] = model_dict.keys()\n",
    "# Set the 'Accuracy' column to the values of the model_dict dictionary\n",
    "model_accuracies_df['Accuracy'] = model_dict.values()"
   ]
  },
  {
   "cell_type": "code",
   "execution_count": 402,
   "id": "9561408b",
   "metadata": {},
   "outputs": [
    {
     "data": {
      "text/html": [
       "<div>\n",
       "<style scoped>\n",
       "    .dataframe tbody tr th:only-of-type {\n",
       "        vertical-align: middle;\n",
       "    }\n",
       "\n",
       "    .dataframe tbody tr th {\n",
       "        vertical-align: top;\n",
       "    }\n",
       "\n",
       "    .dataframe thead th {\n",
       "        text-align: right;\n",
       "    }\n",
       "</style>\n",
       "<table border=\"1\" class=\"dataframe\">\n",
       "  <thead>\n",
       "    <tr style=\"text-align: right;\">\n",
       "      <th></th>\n",
       "      <th>Model</th>\n",
       "      <th>Accuracy</th>\n",
       "    </tr>\n",
       "  </thead>\n",
       "  <tbody>\n",
       "    <tr>\n",
       "      <th>4</th>\n",
       "      <td>GBC</td>\n",
       "      <td>0.731291</td>\n",
       "    </tr>\n",
       "    <tr>\n",
       "      <th>1</th>\n",
       "      <td>RFC</td>\n",
       "      <td>0.727221</td>\n",
       "    </tr>\n",
       "    <tr>\n",
       "      <th>3</th>\n",
       "      <td>Logreg</td>\n",
       "      <td>0.725407</td>\n",
       "    </tr>\n",
       "    <tr>\n",
       "      <th>0</th>\n",
       "      <td>SVM</td>\n",
       "      <td>0.723111</td>\n",
       "    </tr>\n",
       "    <tr>\n",
       "      <th>2</th>\n",
       "      <td>KNN</td>\n",
       "      <td>0.692043</td>\n",
       "    </tr>\n",
       "  </tbody>\n",
       "</table>\n",
       "</div>"
      ],
      "text/plain": [
       "    Model  Accuracy\n",
       "4     GBC  0.731291\n",
       "1     RFC  0.727221\n",
       "3  Logreg  0.725407\n",
       "0     SVM  0.723111\n",
       "2     KNN  0.692043"
      ]
     },
     "execution_count": 402,
     "metadata": {},
     "output_type": "execute_result"
    }
   ],
   "source": [
    "# Sort the DataFrame by the 'Accuracy' column in descending order\n",
    "model_accuracies_df.sort_values(by = \"Accuracy\", ascending=False)"
   ]
  },
  {
   "cell_type": "markdown",
   "id": "02f64650",
   "metadata": {},
   "source": [
    "From the table above the model that perfomed the best based on the accuracy metric is the Gradient Boosting Classifier Model with an accuarcy of 0.73\n"
   ]
  },
  {
   "cell_type": "markdown",
   "id": "7643d0e6",
   "metadata": {},
   "source": [
    "## Making a Cardiovascular Disease Prediction System"
   ]
  },
  {
   "cell_type": "code",
   "execution_count": 403,
   "id": "794f7a0d",
   "metadata": {},
   "outputs": [],
   "source": [
    "# Creating a function that predicts if a patient has a cardiovascular disease or not\n",
    "def predictor(input_data):\n",
    "    input_data_as_numpy_array = np.asarray(input_data)  # Convert the input data to a numpy array\n",
    "    input_data_reshaped = input_data_as_numpy_array.reshape(1, -1)  # Reshape the array to have a single row\n",
    "    std_data = scaler.transform(input_data_reshaped)  # Standardize the input data using the pre-trained scaler\n",
    "    prediction = gb_classifier.predict(std_data)  # Predict the label using the trained classifier\n",
    "    if (prediction[0] == 0):  # Check if the predicted label is 0 (Has no cardiovascular disease)\n",
    "        print(\"The person has a cardiovascular disease\")  # Print the prediction \n",
    "    else:\n",
    "        print(\"The person does not have a cardiovascular disease\")  # Print the prediction \n"
   ]
  },
  {
   "cell_type": "markdown",
   "id": "4a6780b2",
   "metadata": {},
   "source": [
    "This function allows you to make predictions on new input data by passing it to the predictor function, which utilizes the trained classifier and scaler to provide a cardiovascular disease prediction based on the input data."
   ]
  },
  {
   "cell_type": "code",
   "execution_count": 409,
   "id": "a7b08b85",
   "metadata": {},
   "outputs": [
    {
     "name": "stdout",
     "output_type": "stream",
     "text": [
      "The person does not have a cardiovascular disease\n"
     ]
    },
    {
     "name": "stderr",
     "output_type": "stream",
     "text": [
      "/Users/francischukwudi/opt/anaconda3/lib/python3.9/site-packages/sklearn/base.py:450: UserWarning: X does not have valid feature names, but StandardScaler was fitted with feature names\n",
      "  warnings.warn(\n"
     ]
    }
   ],
   "source": [
    "input_data = (55,1,1.56,85.0,140,90,3,1,0,0,1,34.9,4,0) #Sample input data\n",
    "predictor(input_data)"
   ]
  },
  {
   "cell_type": "code",
   "execution_count": null,
   "id": "fe4183ea",
   "metadata": {},
   "outputs": [],
   "source": []
  }
 ],
 "metadata": {
  "kernelspec": {
   "display_name": "Python 3 (ipykernel)",
   "language": "python",
   "name": "python3"
  },
  "language_info": {
   "codemirror_mode": {
    "name": "ipython",
    "version": 3
   },
   "file_extension": ".py",
   "mimetype": "text/x-python",
   "name": "python",
   "nbconvert_exporter": "python",
   "pygments_lexer": "ipython3",
   "version": "3.9.13"
  }
 },
 "nbformat": 4,
 "nbformat_minor": 5
}
